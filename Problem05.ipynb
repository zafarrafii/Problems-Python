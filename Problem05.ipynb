{
 "cells": [
  {
   "cell_type": "markdown",
   "metadata": {},
   "source": [
    "# Movie review sentiment analysis"
   ]
  },
  {
   "cell_type": "markdown",
   "metadata": {},
   "source": [
    "*From [Nifty Assignments](http://nifty.stanford.edu/2016/manley-urness-movie-review-sentiment/)*\n",
    "\n",
    "**About**\n",
    "\n",
    "This assignment uses movie reviews from the Rotten Tomatoes database to do some simple sentiment analysis. Students will write programs that use the review text and a manually labeled review score to automatically learn how negative or positive the connotations of a particular word are. This can then be used to predict the sentiment of new text with reasonably good results. For example, student programs will be able to read text like this:\n",
    "\n",
    "*The film was a breath of fresh air.*\n",
    "\n",
    "and predict that it is a positive review while predicting negative sentiment for text like this:\n",
    "\n",
    "*It made me want to poke out my eyeballs.*\n",
    "\n",
    "The data (with some pre-processing from us) is from a [Sentiment Analysis project at Stanford](https://nlp.stanford.edu/sentiment/) (which used a much more sophisticated algorithm) and has been used for a [Kaggle machine learning competition](https://www.kaggle.com/c/sentiment-analysis-on-movie-reviews).\n",
    "\n",
    "We have provided two examples of projects based on this idea that we have used in a CS 1 course and a CS 2 course, though there are many extensions that could be made for these or other higher-level courses.\n",
    "\n",
    "**Materials**\n",
    "- [Movie review data file](http://nifty.stanford.edu/2016/manley-urness-movie-review-sentiment/movieReviews.txt). We removed all of the partial reviews from the Kaggle data and reformatted it to make it a little easier for students to read into their programs.\n",
    "- [CS 1 Assignment Handout](http://nifty.stanford.edu/2016/manley-urness-movie-review-sentiment/CS1Project.doc). In this assignment, students use the data to determine the sentiment of individual words and practice common early CS 1 concepts like control structures, file I/O, accumulators/counters, min/max algorithm, and methods.\n",
    "- [CS 1 Starter Code](http://nifty.stanford.edu/2016/manley-urness-movie-review-sentiment/CS1SentimentStarterCode.zip). This code shows how to read the different fields of the movie review data and search for words within reviews. This is short and can be developed live with students or given ahead of time.\n",
    "- [CS 2 Assignment Handout](http://nifty.stanford.edu/2016/manley-urness-movie-review-sentiment/CS2Project.doc). In this assignment, students predict the sentiment of larger pieces of text. The assignment requires appropriate data structures (e.g. hash tables, custom classes) to increase the search speed and reduce the need for excessive file access.\n",
    "- [CS 2 Starter Code](http://nifty.stanford.edu/2016/manley-urness-movie-review-sentiment/CS2SentimentStarterCode.zip). This code shows how to read the movie review data. It also provides the .h files for the custom class and hash table functions that need to be implemented."
   ]
  },
  {
   "cell_type": "markdown",
   "metadata": {},
   "source": [
    "## Movie Review Sentiment Analysis (CS1)"
   ]
  },
  {
   "cell_type": "markdown",
   "metadata": {},
   "source": [
    "Sentiment Analysis is a Big Data problem which seeks to determine the general attitude of a writer given some text they have written. For instance, we would like to have a program that could look at the text “The film was a breath of fresh air” and realize that it was a positive statement while “It made me want to poke out my eye balls” is negative. \n",
    "\n",
    "One algorithm that we can use for this is to assign a numeric value to any given word based on how positive or negative that word is and then score the statement based on the values of the words. But, how do we come up with our word scores in the first place?\n",
    "\n",
    "That’s the problem that we’ll solve in this assignment. You are going to search through a file containing movie reviews from the Rotten Tomatoes website which have both a numeric score as well as text. You’ll use this to learn which words are positive and which are negative. \n",
    "\n",
    "Note that each review starts with a number 0 through 4 with the following meaning:\n",
    "- 0 : negative\n",
    "- 1 : somewhat negative\n",
    "- 2 : neutral\n",
    "- 3 : somewhat positive\n",
    "- 4 : positive"
   ]
  },
  {
   "cell_type": "markdown",
   "metadata": {},
   "source": [
    "1. (30 points) For the base assignment, you will ask the user to enter a word, and then you will search every movie review for that word. If you find it, add the score for that review to the word’s running score total (i.e., an accumulator variable). You also will need to keep track of how many appearances the word made so that you can report the average score of reviews containing that word back to the user."
   ]
  },
  {
   "cell_type": "code",
   "execution_count": 30,
   "metadata": {},
   "outputs": [],
   "source": [
    "import urllib.request\n",
    "\n",
    "def cs11():\n",
    "\n",
    "    # Input a word\n",
    "    input_word = input('Enter a word: ')\n",
    "\n",
    "    # URL to the reviews file\n",
    "    reviews_url = 'http://nifty.stanford.edu/2016/manley-urness-movie-review-sentiment/movieReviews.txt'\n",
    "\n",
    "    # Initialize the word score and counter\n",
    "    word_score = 0\n",
    "    word_counter = 0\n",
    "\n",
    "    # Open the file from the URL\n",
    "    reviews_file = urllib.request.urlopen(reviews_url)\n",
    "    \n",
    "    # Loop over the lines in the file\n",
    "    for review_line in reviews_file:\n",
    "        \n",
    "        # Decode the line\n",
    "        decoded_line = review_line.decode(\"utf-8\")\n",
    "        \n",
    "        # If the word is present in the line (case insensitive)\n",
    "        if input_word.lower() in decoded_line.lower():\n",
    "\n",
    "            # Upate the score and counter\n",
    "            word_score = word_score + int(decoded_line[0])\n",
    "            word_counter = word_counter + 1\n",
    "\n",
    "    # If the word was found at least once in the file\n",
    "    if word_counter != 0:\n",
    "        \n",
    "        # Compute the average score\n",
    "        word_score = word_score/word_counter\n",
    "        \n",
    "    else:\n",
    "        \n",
    "        # Else, return a NaN\n",
    "        word_score = float('NaN')\n",
    "\n",
    "    # Print the results\n",
    "    print(input_word + ' appears ' + str(word_counter) + ' times.')\n",
    "    print('The average score for reviews containing the word ' + input_word + ' is ' + str(word_score))"
   ]
  },
  {
   "cell_type": "code",
   "execution_count": 32,
   "metadata": {},
   "outputs": [
    {
     "name": "stdout",
     "output_type": "stream",
     "text": [
      "Enter a word: fantastic\n",
      "fantastic appears 14 times.\n",
      "The average score for reviews containing the word fantastic is 2.9285714285714284\n"
     ]
    }
   ],
   "source": [
    "# fantastic\n",
    "cs11()"
   ]
  },
  {
   "cell_type": "code",
   "execution_count": 3,
   "metadata": {},
   "outputs": [
    {
     "name": "stdout",
     "output_type": "stream",
     "text": [
      "Enter a word: horrible\n",
      "horrible appears 12 times.\n",
      "The average score for reviews containing the word horrible is 0.5833333333333334\n"
     ]
    }
   ],
   "source": [
    "# horrible\n",
    "cs11()"
   ]
  },
  {
   "cell_type": "code",
   "execution_count": 4,
   "metadata": {},
   "outputs": [
    {
     "name": "stdout",
     "output_type": "stream",
     "text": [
      "Enter a word: ok\n",
      "ok appears 466 times.\n",
      "The average score for reviews containing the word ok is 1.9527896995708154\n"
     ]
    }
   ],
   "source": [
    "# ok\n",
    "cs11()"
   ]
  },
  {
   "cell_type": "markdown",
   "metadata": {},
   "source": [
    "**Explanations**:\n",
    "\n",
    "This one is pretty straighforward. We open the file from the URL, we loop over the lines, and we check if the word is present in each line; if it is, we update a counter and a score. We finally compute the average score provided the word was found at least once in the file."
   ]
  },
  {
   "cell_type": "markdown",
   "metadata": {},
   "source": [
    "2. (10 points) For an additional 10 points, ask the user to give you the name of a file containing a series of words, one-per-line, and compute the score of every word in the file. Report back to the user the average score of the words in the file. This will allow you to predict the overall sentiment of the phrase represented by words in the file. Consider an average word score above 2.01 as an overall positive sentiment and consider average score below 1.99 to have an overall negative sentiment. "
   ]
  },
  {
   "cell_type": "code",
   "execution_count": 70,
   "metadata": {},
   "outputs": [],
   "source": [
    "import urllib.request\n",
    "\n",
    "def cs12():\n",
    "\n",
    "    # Input a file\n",
    "    words_file = input('Enter the name of the file with words you want to score: ')\n",
    "    \n",
    "    # URL to the reviews file\n",
    "    reviews_url = 'http://nifty.stanford.edu/2016/manley-urness-movie-review-sentiment/movieReviews.txt'\n",
    "\n",
    "    # Open the reviews file from the URL\n",
    "    reviews_file = urllib.request.urlopen(reviews_url)\n",
    "    \n",
    "    # Initialize the overall score and counter\n",
    "    overall_score = 0\n",
    "    overall_counter = 0\n",
    "            \n",
    "    # Open the words file\n",
    "    with open(words_file, 'r') as words_open:\n",
    "        \n",
    "        # Loop over the lines in the file\n",
    "        for word_line in words_open:\n",
    "            \n",
    "            # Initialize the word score and counter\n",
    "            word_score = 0\n",
    "            word_counter = 0\n",
    "            \n",
    "            # Loop over the lines in the file\n",
    "            for review_line in reviews_file:\n",
    "                \n",
    "                # Decode the line\n",
    "                review_decoded = review_line.decode(\"utf-8\")\n",
    "                \n",
    "                # If the current word is present in the current line (case insensitive)\n",
    "                # (also remove spaces to the right of the string)\n",
    "                if word_line.rstrip().lower() in review_decoded.lower():\n",
    "                    \n",
    "                    # Update the word score and counter\n",
    "                    word_score = word_score + int(review_decoded[0])\n",
    "                    word_counter = word_counter + 1\n",
    "                \n",
    "            # If the word was found at least once in the file\n",
    "            if word_counter != 0:\n",
    "\n",
    "                # Compute the average word score\n",
    "                word_score = word_score/word_counter\n",
    "\n",
    "                # Update the overall score and counter\n",
    "                overall_score = overall_score + word_score\n",
    "                overall_counter = overall_counter + 1\n",
    "    \n",
    "    # If the words were counted at least once in the file\n",
    "    if overall_counter != 0:\n",
    "        \n",
    "        # Compute the average overall score\n",
    "        overall_score = overall_score/overall_counter\n",
    "        \n",
    "    else:\n",
    "        \n",
    "        # Else, return a NaN\n",
    "        overall_score = float('NaN')\n",
    "\n",
    "    # Estimate the overall sentiment\n",
    "    if overall_score > 2.01:\n",
    "        overall_sentiment = 'positive'\n",
    "    elif overall_score < 1.99:\n",
    "        overall_sentiment = 'negative'\n",
    "    else:\n",
    "        overall_sentiment = 'neutral'\n",
    "\n",
    "    # Print the results\n",
    "    print('The average score of words in ' + words_file + ' is ' + str(overall_score))\n",
    "    print('The overal sentiment of ' + words_file + ' is ' + overall_sentiment)"
   ]
  },
  {
   "cell_type": "code",
   "execution_count": 71,
   "metadata": {},
   "outputs": [
    {
     "name": "stdout",
     "output_type": "stream",
     "text": [
      "Enter the name of the file with words you want to score: C:\\Users\\raza7002\\Documents\\GitHub\\Python-Problems\\negTest.txt\n",
      "The average score of words in C:\\Users\\raza7002\\Documents\\GitHub\\Python-Problems\\negTest.txt is 2.014556040756914\n",
      "The overal sentiment of C:\\Users\\raza7002\\Documents\\GitHub\\Python-Problems\\negTest.txt is positive\n"
     ]
    }
   ],
   "source": [
    "# C:\\Users\\raza7002\\Documents\\GitHub\\Python-Problems\\negTest.txt\n",
    "cs12()"
   ]
  },
  {
   "cell_type": "markdown",
   "metadata": {},
   "source": [
    "**Explanations**:\n",
    "\n",
    "This one is also pretty straighforward. We open the file, we loop over the words, and we basically repeat the process described in 1. for each word. Each time, we update an overall score using the word score and an overall counter. We finally compute the average score and estimate the overall sentiment."
   ]
  },
  {
   "cell_type": "markdown",
   "metadata": {},
   "source": [
    "3. (10 points) For an additional 10 points, ask the user to give you the name of a file containing a series of words, one-per-line, and compute the score of every word in the file. Report back to the user which word was the most positive and which was the most negative. "
   ]
  },
  {
   "cell_type": "code",
   "execution_count": 7,
   "metadata": {},
   "outputs": [],
   "source": [
    "def cs13():\n",
    "    \n",
    "    # Input file\n",
    "    words_file = input('Enter the name of the file with words you want to score: ')\n",
    "    \n",
    "    # Reviews file\n",
    "    reviews_file = 'C:/Users/raza7002/Downloads/movieReviews.txt'\n",
    "    \n",
    "    # Initialize the overall dictionary\n",
    "    overall_dictionary = dict()\n",
    "\n",
    "    # Open the words file\n",
    "    with open(words_file, 'r') as words_file1:\n",
    "        \n",
    "        # Loop over the lines in the file\n",
    "        for word_line in words_file1:\n",
    "\n",
    "            # Initialize the word score and counter\n",
    "            word_score = 0\n",
    "            word_counter = 0\n",
    "\n",
    "            # Open the reviews file\n",
    "            with open(reviews_file, 'r') as reviews_file1:\n",
    "                \n",
    "                # Loop over the lines in the file\n",
    "                for review_line in reviews_file1:\n",
    "                    \n",
    "                    # If the current word is found in the current line (case insensitive)\n",
    "                    # (also remove spaces to the right of the string)\n",
    "                    if word_line.rstrip().lower()in review_line.lower():\n",
    "                        \n",
    "                        # Update the word score and counter\n",
    "                        word_score = word_score + int(review_line[0])\n",
    "                        word_counter = word_counter + 1\n",
    "            \n",
    "            # If the word was counted at least once in the file\n",
    "            if word_counter != 0:\n",
    "                \n",
    "                # Compute the average word score\n",
    "                word_score = word_score/word_counter\n",
    "                \n",
    "            else:\n",
    "                \n",
    "                # Else, return a NaN\n",
    "                word_score = float('NaN')\n",
    "\n",
    "            # Store the word score in the dictionary\n",
    "            overall_dictionary[word_line.rstrip()] = word_score\n",
    "    \n",
    "    # Find the most positive and negative words\n",
    "    positive_word = max(overall_dictionary, key=overall_dictionary.get)\n",
    "    negative_word = min(overall_dictionary, key=overall_dictionary.get)\n",
    "\n",
    "    # Print the results\n",
    "    print('The most positive word, with a score of ' + str(overall_dictionary[positive_word]) + ' is ' + positive_word)\n",
    "    print('The most negative word, with a score of ' + str(overall_dictionary[negative_word]) + ' is ' + negative_word)"
   ]
  },
  {
   "cell_type": "code",
   "execution_count": 8,
   "metadata": {},
   "outputs": [
    {
     "name": "stdout",
     "output_type": "stream",
     "text": [
      "Enter the name of the file with words you want to score: C:/Users/raza7002/Downloads/CS1SentimentStarterCode/wordList.txt\n",
      "The most positive word, with a score of 3.8333333333333335 is tears\n",
      "The most negative word, with a score of 0.125 is incoherent\n"
     ]
    }
   ],
   "source": [
    "cs13()"
   ]
  },
  {
   "cell_type": "markdown",
   "metadata": {},
   "source": [
    "4. (10 points) For an additional 10 points, add functionality that will ask the user to enter a word file like in the previous step, but instead of reporting the best and the worst word, create two files called positive.txt and negative.txt, sorting words that have scores below 1.9 into negative.txt, and words that have scores above 2.1 into positive.txt (and just leave out words in between)."
   ]
  },
  {
   "cell_type": "code",
   "execution_count": 9,
   "metadata": {},
   "outputs": [],
   "source": [
    "def cs14():\n",
    "    \n",
    "    # Input file\n",
    "    words_file = input('Enter the name of the file with words you want to score: ')\n",
    "    \n",
    "    # Reviews file\n",
    "    reviews_file = 'C:/Users/raza7002/Downloads/movieReviews.txt'\n",
    "    \n",
    "    # Initialize the overall dictionary\n",
    "    overall_dictionary = dict()\n",
    "\n",
    "    # Open the words file\n",
    "    with open(words_file, 'r') as words_file1:\n",
    "        \n",
    "        # Loop over the lines in the file\n",
    "        for word_line in words_file1:\n",
    "\n",
    "            # Initialize the word score and counter\n",
    "            word_score = 0\n",
    "            word_counter = 0\n",
    "\n",
    "            # Open the reviews file\n",
    "            with open(reviews_file, 'r') as reviews_file1:\n",
    "                \n",
    "                # Loop over the lines in the file\n",
    "                for review_line in reviews_file1:\n",
    "                    \n",
    "                    # If the current word is found in the current line (case insensitive)\n",
    "                    # (also remove spaces to the right of the string)\n",
    "                    if word_line.rstrip().lower()in review_line.lower():\n",
    "                        \n",
    "                        # Update the word score and counter\n",
    "                        word_score = word_score + int(review_line[0])\n",
    "                        word_counter = word_counter + 1\n",
    "            \n",
    "            # If the word was counted at least once in the file\n",
    "            if word_counter != 0:\n",
    "                \n",
    "                # Compute the average word score\n",
    "                word_score = word_score/word_counter\n",
    "                \n",
    "            else:\n",
    "                \n",
    "                # Else, return a NaN\n",
    "                word_score = float('NaN')\n",
    "\n",
    "            # Store the word score in the dictionary\n",
    "            overall_dictionary[word_line.rstrip()] = word_score\n",
    "    \n",
    "    # Create positive and negative dictionaries, sorted\n",
    "    positive_dictionary = dict((key, value) for key, value in overall_dictionary.items() if value >= 2.1)\n",
    "    positive_dictionary = sorted(positive_dictionary, key=positive_dictionary.get)\n",
    "    negative_dictionary = dict((key, value) for key, value in overall_dictionary.items() if value <= 1.9)\n",
    "    negative_dictionary = sorted(negative_dictionary, key=negative_dictionary.get)\n",
    "\n",
    "    # Print the results\n",
    "    #print('Sorted positive dictionary (in ascending order) :'+ str(positive_dictionary))\n",
    "    #print('Sorted negative dictionary (in ascending order) :'+ str(negative_dictionary))\n",
    "    \n",
    "    # Write the results\n",
    "    with open('positive.txt','w') as positive_file:\n",
    "        print(positive_dictionary, file=positive_file)\n",
    "    with open('negative.txt','w') as negative_file:\n",
    "        print(negative_dictionary, file=negative_file)"
   ]
  },
  {
   "cell_type": "code",
   "execution_count": 10,
   "metadata": {},
   "outputs": [
    {
     "name": "stdout",
     "output_type": "stream",
     "text": [
      "Enter the name of the file with words you want to score: C:/Users/raza7002/Downloads/CS1SentimentStarterCode/wordList.txt\n"
     ]
    }
   ],
   "source": [
    "cs14()"
   ]
  },
  {
   "cell_type": "markdown",
   "metadata": {},
   "source": [
    "5. (5 points) Put the code from the above three parts (or two or one, depending on how many you attempted) into their own methods and call them as appropriate."
   ]
  },
  {
   "cell_type": "code",
   "execution_count": 11,
   "metadata": {},
   "outputs": [],
   "source": [
    "# Public class without a constructor\n",
    "class cs1:\n",
    "    \n",
    "    # Static methods without a self\n",
    "    @staticmethod\n",
    "    def method1():\n",
    "        cs11()\n",
    "        \n",
    "    @staticmethod\n",
    "    def method2():\n",
    "        cs12()\n",
    "        \n",
    "    @staticmethod\n",
    "    def method3():\n",
    "        cs13()\n",
    "        \n",
    "    @staticmethod\n",
    "    def method4():\n",
    "        cs14()"
   ]
  },
  {
   "cell_type": "code",
   "execution_count": 12,
   "metadata": {},
   "outputs": [
    {
     "name": "stdout",
     "output_type": "stream",
     "text": [
      "Enter a word: fantastic\n",
      "fantastic appears 14 times.\n",
      "The average score for reviews containing the word fantastic is 2.9285714285714284\n"
     ]
    }
   ],
   "source": [
    "cs1.method1()"
   ]
  },
  {
   "cell_type": "code",
   "execution_count": 13,
   "metadata": {},
   "outputs": [
    {
     "name": "stdout",
     "output_type": "stream",
     "text": [
      "Enter the name of the file with words you want to score: C:/Users/raza7002/Downloads/CS1SentimentStarterCode/wordList.txt\n",
      "The average score of words in C:/Users/raza7002/Downloads/CS1SentimentStarterCode/wordList.txt is 1.9342285798738992\n",
      "The overal sentiment of C:/Users/raza7002/Downloads/CS1SentimentStarterCode/wordList.txt is negative\n"
     ]
    }
   ],
   "source": [
    "cs1.method2()"
   ]
  },
  {
   "cell_type": "code",
   "execution_count": 14,
   "metadata": {},
   "outputs": [
    {
     "name": "stdout",
     "output_type": "stream",
     "text": [
      "Enter the name of the file with words you want to score: C:/Users/raza7002/Downloads/CS1SentimentStarterCode/wordList.txt\n",
      "The most positive word, with a score of 3.8333333333333335 is tears\n",
      "The most negative word, with a score of 0.125 is incoherent\n"
     ]
    }
   ],
   "source": [
    "cs1.method3()"
   ]
  },
  {
   "cell_type": "code",
   "execution_count": 15,
   "metadata": {},
   "outputs": [
    {
     "name": "stdout",
     "output_type": "stream",
     "text": [
      "Enter the name of the file with words you want to score: C:/Users/raza7002/Downloads/CS1SentimentStarterCode/wordList.txt\n"
     ]
    }
   ],
   "source": [
    "cs1.method4()"
   ]
  },
  {
   "cell_type": "markdown",
   "metadata": {},
   "source": [
    "6. (5 points) Create a menu that allows the user to pick the functionality that they want from the choices. When finished with it, present the menu again until the user chooses to exit."
   ]
  },
  {
   "cell_type": "code",
   "execution_count": 16,
   "metadata": {},
   "outputs": [
    {
     "name": "stdout",
     "output_type": "stream",
     "text": [
      "What would you like to do?\n",
      "1: Get the score of a word\n",
      "2: Get the average score of words in a file (one word per line)\n",
      "3: Find the highest/lowest scoring words in a file\n",
      "4: Sort words from a file into positive.txt and negative.txt\n",
      "5: Exit the program\n",
      "Enter a number 1:5: 1\n",
      "\n",
      "Enter a word: fantastic\n",
      "fantastic appears 14 times.\n",
      "The average score for reviews containing the word fantastic is 2.9285714285714284\n",
      "\n",
      "What would you like to do?\n",
      "1: Get the score of a word\n",
      "2: Get the average score of words in a file (one word per line)\n",
      "3: Find the highest/lowest scoring words in a file\n",
      "4: Sort words from a file into positive.txt and negative.txt\n",
      "5: Exit the program\n",
      "Enter a number 1:5: 2\n",
      "\n",
      "Enter the name of the file with words you want to score: C:/Users/raza7002/Downloads/CS1SentimentStarterCode/wordList.txt\n",
      "The average score of words in C:/Users/raza7002/Downloads/CS1SentimentStarterCode/wordList.txt is 1.9342285798738992\n",
      "The overal sentiment of C:/Users/raza7002/Downloads/CS1SentimentStarterCode/wordList.txt is negative\n",
      "\n",
      "What would you like to do?\n",
      "1: Get the score of a word\n",
      "2: Get the average score of words in a file (one word per line)\n",
      "3: Find the highest/lowest scoring words in a file\n",
      "4: Sort words from a file into positive.txt and negative.txt\n",
      "5: Exit the program\n",
      "Enter a number 1:5: 3\n",
      "\n",
      "Enter the name of the file with words you want to score: C:/Users/raza7002/Downloads/CS1SentimentStarterCode/wordList.txt\n",
      "The most positive word, with a score of 3.8333333333333335 is tears\n",
      "The most negative word, with a score of 0.125 is incoherent\n",
      "\n",
      "What would you like to do?\n",
      "1: Get the score of a word\n",
      "2: Get the average score of words in a file (one word per line)\n",
      "3: Find the highest/lowest scoring words in a file\n",
      "4: Sort words from a file into positive.txt and negative.txt\n",
      "5: Exit the program\n",
      "Enter a number 1:5: 4\n",
      "\n",
      "Enter the name of the file with words you want to score: C:/Users/raza7002/Downloads/CS1SentimentStarterCode/wordList.txt\n",
      "\n",
      "What would you like to do?\n",
      "1: Get the score of a word\n",
      "2: Get the average score of words in a file (one word per line)\n",
      "3: Find the highest/lowest scoring words in a file\n",
      "4: Sort words from a file into positive.txt and negative.txt\n",
      "5: Exit the program\n",
      "Enter a number 1:5: 5\n",
      "\n"
     ]
    }
   ],
   "source": [
    "condition = True\n",
    "while condition:\n",
    "\n",
    "    # Menu\n",
    "    print('What would you like to do?')\n",
    "    print('1: Get the score of a word')\n",
    "    print('2: Get the average score of words in a file (one word per line)')\n",
    "    print('3: Find the highest/lowest scoring words in a file')\n",
    "    print('4: Sort words from a file into positive.txt and negative.txt')\n",
    "    print('5: Exit the program')\n",
    "    input_value = input('Enter a number 1:5: ')\n",
    "    print('')\n",
    "    \n",
    "    input_value = int(input_value)\n",
    "    if input_value == 1:\n",
    "        cs1.method1()\n",
    "        print('')\n",
    "    elif input_value == 2:\n",
    "        cs1.method2()\n",
    "        print('')\n",
    "    elif input_value == 3:\n",
    "        cs1.method3()\n",
    "        print('')\n",
    "    elif input_value == 4:\n",
    "        cs1.method4()\n",
    "        print('')\n",
    "    elif input_value == 5:\n",
    "        condition = False\n",
    "        pass\n",
    "    else:\n",
    "        print('The input must be a number 1-5.')\n",
    "        print('')"
   ]
  }
 ],
 "metadata": {
  "kernelspec": {
   "display_name": "Python 3",
   "language": "python",
   "name": "python3"
  },
  "language_info": {
   "codemirror_mode": {
    "name": "ipython",
    "version": 3
   },
   "file_extension": ".py",
   "mimetype": "text/x-python",
   "name": "python",
   "nbconvert_exporter": "python",
   "pygments_lexer": "ipython3",
   "version": "3.7.3"
  }
 },
 "nbformat": 4,
 "nbformat_minor": 2
}
