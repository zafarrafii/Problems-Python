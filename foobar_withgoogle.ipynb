{
 "cells": [
  {
   "cell_type": "markdown",
   "id": "afe24139",
   "metadata": {},
   "source": [
    "# Foobar Google Challenges"
   ]
  },
  {
   "cell_type": "markdown",
   "id": "ca56fa37",
   "metadata": {},
   "source": [
    "## Challenge 1.1"
   ]
  },
  {
   "cell_type": "code",
   "execution_count": 2,
   "id": "d7bf5a39",
   "metadata": {},
   "outputs": [
    {
     "name": "stdout",
     "output_type": "stream",
     "text": [
      "[]\n",
      "[1, 4]\n",
      "[5, 15, 7]\n"
     ]
    }
   ],
   "source": [
    "def solution(data, n): \n",
    "\n",
    "    # Loop over the data to update lists of unique values and their counts\n",
    "    values = []\n",
    "    counts = []\n",
    "    for x in data:\n",
    "        if x in values:\n",
    "            counts[values.index(x)] += 1\n",
    "        else:\n",
    "            values.append(x)\n",
    "            counts.append(1)\n",
    "    \n",
    "    # Loop over those lists to identify the values with n counts or less\n",
    "    output = []\n",
    "    for i in range(len(data)):\n",
    "        if counts[values.index(data[i])] <= n:\n",
    "            output.append(data[i])\n",
    "    return output\n",
    "\n",
    "print(solution([1, 2, 3], 0))\n",
    "print(solution([1, 2, 2, 3, 3, 3, 4, 5, 5], 1))\n",
    "print(solution([5, 10, 15, 10, 7], 1))"
   ]
  },
  {
   "cell_type": "markdown",
   "id": "5d982bd9",
   "metadata": {},
   "source": [
    "## Challenge 2.1"
   ]
  },
  {
   "cell_type": "code",
   "execution_count": 3,
   "id": "b420e621",
   "metadata": {},
   "outputs": [
    {
     "name": "stdout",
     "output_type": "stream",
     "text": [
      "8\n",
      "60\n",
      "30\n"
     ]
    }
   ],
   "source": [
    "def solution(xs):\n",
    "    \n",
    "    # First check if there is a single negative value\n",
    "    if len(xs) == 1 and xs[0] < 0:\n",
    "        return str(xs[0])\n",
    "        \n",
    "    else:\n",
    "        # Get the lists of the strictly positive and negative values\n",
    "        positives = []\n",
    "        negatives = []\n",
    "        for x in xs:\n",
    "            if x < 0:\n",
    "                negatives.append(x)\n",
    "            elif x > 0:\n",
    "                positives.append(x)\n",
    "                \n",
    "        # Remove the largest negative value if its list has an odd length\n",
    "        if len(negatives) > 0:\n",
    "            if 2*int(len(negatives)/2) != len(negatives):\n",
    "                maxi = negatives[0]\n",
    "                for i in range(1, len(negatives)):\n",
    "                    if negatives[i] > maxi:\n",
    "                        maxi = negatives[i]\n",
    "                negatives.remove(maxi)\n",
    "        \n",
    "        # Compute the product depending if the lists are empty or not\n",
    "        total = positives+negatives\n",
    "        if len(total) > 0:\n",
    "            output = 1\n",
    "            for x in total:\n",
    "                output *= x\n",
    "        else:\n",
    "            output = 0\n",
    "            \n",
    "        # Return a string\n",
    "        return str(output)\n",
    "    \n",
    "print(solution([2, 0, 2, 2, 0]))\n",
    "print(solution([-2, -3, 4, -5]))\n",
    "print(solution([2, -3, 1, 0, -5]))"
   ]
  },
  {
   "cell_type": "markdown",
   "id": "f0be9263",
   "metadata": {},
   "source": [
    "## Challenge 2.2"
   ]
  },
  {
   "cell_type": "markdown",
   "id": "109d7b19",
   "metadata": {},
   "source": [
    "En Route Salute\n",
    "===============\n",
    "\n",
    "Commander Lambda loves efficiency and hates anything that wastes time. The Commander is a busy lamb, after all! Henchmen who identify sources of inefficiency and come up with ways to remove them are generously rewarded. You've spotted one such source, and you think solving it will help you build the reputation you need to get promoted.\n",
    "\n",
    "Every time the Commander's employees pass each other in the hall, each of them must stop and salute each other -- one at a time -- before resuming their path. A salute is five seconds long, so each exchange of salutes takes a full ten seconds (Commander Lambda's salute is a bit, er, involved). You think that by removing the salute requirement, you could save several collective hours of employee time per day. But first, you need to show the Commander how bad the problem really is.\n",
    "\n",
    "Write a program that counts how many salutes are exchanged during a typical walk along a hallway. The hall is represented by a string. For example:\n",
    "\"--->-><-><-->-\"\n",
    "\n",
    "Each hallway string will contain three different types of characters: '>', an employee walking to the right; '<', an employee walking to the left; and '-', an empty space. Every employee walks at the same speed either to right or to the left, according to their direction. Whenever two employees cross, each of them salutes the other. They then continue walking until they reach the end, finally leaving the hallway. In the above example, they salute 10 times.\n",
    "\n",
    "Write a function solution(s) which takes a string representing employees walking along a hallway and returns the number of times the employees will salute. s will contain at least 1 and at most 100 characters, each one of -, >, or <.\n",
    "\n",
    "Languages\n",
    "=========\n",
    "\n",
    "To provide a Python solution, edit solution.py\n",
    "To provide a Java solution, edit Solution.java\n",
    "\n",
    "Test cases\n",
    "==========\n",
    "Your code should pass the following test cases.\n",
    "Note that it may also be run against hidden test cases not shown here.\n",
    "\n",
    "-- Python cases --\n",
    "Input:\n",
    "solution.solution(\">----<\")\n",
    "Output:\n",
    "    2\n",
    "\n",
    "Input:\n",
    "solution.solution(\"<<>><\")\n",
    "Output:\n",
    "    4\n",
    "\n",
    "-- Java cases --\n",
    "Input:\n",
    "Solution.solution(\"<<>><\")\n",
    "Output:\n",
    "    4\n",
    "\n",
    "Input:\n",
    "Solution.solution(\">----<\")\n",
    "Output:\n",
    "    2"
   ]
  },
  {
   "cell_type": "code",
   "execution_count": 6,
   "id": "eb557bfa",
   "metadata": {},
   "outputs": [
    {
     "name": "stdout",
     "output_type": "stream",
     "text": [
      "2\n",
      "4\n",
      "10\n"
     ]
    }
   ],
   "source": [
    "def solution(s):\n",
    "    \n",
    "    # Initialize counter\n",
    "    c = 0\n",
    "    \n",
    "    # First loop to identify someone walking to the right\n",
    "    for i in range(0, len(s)):\n",
    "        if s[i] == '>':\n",
    "            \n",
    "            # Second loop to identify someone walking to the left\n",
    "            for j in range(i+1, len(s)):\n",
    "                if s[j] == '<':\n",
    "                    \n",
    "                    # Update the counter\n",
    "                    c += 2\n",
    "    return c\n",
    "        \n",
    "print(solution(\">----<\"))\n",
    "print(solution((\"<<>><\")))\n",
    "print(solution((\"--->-><-><-->-\")))"
   ]
  },
  {
   "cell_type": "markdown",
   "id": "6c6de456",
   "metadata": {},
   "source": [
    "## Challenge 3.1"
   ]
  },
  {
   "cell_type": "markdown",
   "id": "0a6d60c0",
   "metadata": {},
   "source": [
    "Bomb, Baby!\n",
    "===========\n",
    "\n",
    "You're so close to destroying the LAMBCHOP doomsday device you can taste it! But in order to do so, you need to deploy special self-replicating bombs designed for you by the brightest scientists on Bunny Planet. There are two types: Mach bombs (M) and Facula bombs (F). The bombs, once released into the LAMBCHOP's inner workings, will automatically deploy to all the strategic points you've identified and destroy them at the same time. \n",
    "\n",
    "But there's a few catches. First, the bombs self-replicate via one of two distinct processes: \n",
    "Every Mach bomb retrieves a sync unit from a Facula bomb; for every Mach bomb, a Facula bomb is created;\n",
    "Every Facula bomb spontaneously creates a Mach bomb.\n",
    "\n",
    "For example, if you had 3 Mach bombs and 2 Facula bombs, they could either produce 3 Mach bombs and 5 Facula bombs, or 5 Mach bombs and 2 Facula bombs. The replication process can be changed each cycle. \n",
    "\n",
    "Second, you need to ensure that you have exactly the right number of Mach and Facula bombs to destroy the LAMBCHOP device. Too few, and the device might survive. Too many, and you might overload the mass capacitors and create a singularity at the heart of the space station - not good! \n",
    "\n",
    "And finally, you were only able to smuggle one of each type of bomb - one Mach, one Facula - aboard the ship when you arrived, so that's all you have to start with. (Thus it may be impossible to deploy the bombs to destroy the LAMBCHOP, but that's not going to stop you from trying!) \n",
    "\n",
    "You need to know how many replication cycles (generations) it will take to generate the correct amount of bombs to destroy the LAMBCHOP. Write a function solution(M, F) where M and F are the number of Mach and Facula bombs needed. Return the fewest number of generations (as a string) that need to pass before you'll have the exact number of bombs necessary to destroy the LAMBCHOP, or the string \"impossible\" if this can't be done! M and F will be string representations of positive integers no larger than 10^50. For example, if M = \"2\" and F = \"1\", one generation would need to pass, so the solution would be \"1\". However, if M = \"2\" and F = \"4\", it would not be possible.\n",
    "\n",
    "Languages\n",
    "=========\n",
    "\n",
    "To provide a Java solution, edit Solution.java\n",
    "To provide a Python solution, edit solution.py\n",
    "\n",
    "Test cases\n",
    "==========\n",
    "Your code should pass the following test cases.\n",
    "Note that it may also be run against hidden test cases not shown here.\n",
    "\n",
    "-- Java cases --\n",
    "Input:\n",
    "Solution.solution('2', '1')\n",
    "Output:\n",
    "    1\n",
    "\n",
    "Input:\n",
    "Solution.solution('4', '7')\n",
    "Output:\n",
    "    4\n",
    "\n",
    "-- Python cases --\n",
    "Input:\n",
    "solution.solution('4', '7')\n",
    "Output:\n",
    "    4\n",
    "\n",
    "Input:\n",
    "solution.solution('2', '1')\n",
    "Output:\n",
    "    1"
   ]
  },
  {
   "cell_type": "code",
   "execution_count": 51,
   "id": "1e95cbd6",
   "metadata": {},
   "outputs": [
    {
     "name": "stdout",
     "output_type": "stream",
     "text": [
      "4\n",
      "1\n",
      "impossible\n"
     ]
    }
   ],
   "source": [
    "def solution(x, y):\n",
    "    \n",
    "    # Turn the strings into int\n",
    "    x = int(eval(x))\n",
    "    y = int(eval(y))\n",
    "    \n",
    "    # Take care of some edge cases first\n",
    "    if x<=0 or y<=0:\n",
    "        return 'impossible'\n",
    "    elif x>1e50 or y>1e50:\n",
    "        return 'impossible'\n",
    "    elif x==1 and y==1:\n",
    "        return '0'\n",
    "    elif x==y:\n",
    "        return 'impossible'\n",
    "    \n",
    "    # Loop \"backwards\" until we reach x=1 and y=1, if possible\n",
    "    k = 0\n",
    "    while x != 1 or y != 1:\n",
    "        if x > y:\n",
    "            x = x-y\n",
    "        elif y > x:\n",
    "            y = y-x\n",
    "        else:\n",
    "            return 'impossible'\n",
    "        k += 1\n",
    "        \n",
    "        \n",
    "    # Can't figure out why Test 3 is failing here.. Is it something obvious? Am I missing an edge case??\n",
    "    \n",
    "    return str(k)\n",
    "\n",
    "print(solution('4', '7'))\n",
    "print(solution('2', '1'))\n",
    "print(solution('2', '4'))"
   ]
  }
 ],
 "metadata": {
  "kernelspec": {
   "display_name": "Python 3 (ipykernel)",
   "language": "python",
   "name": "python3"
  },
  "language_info": {
   "codemirror_mode": {
    "name": "ipython",
    "version": 3
   },
   "file_extension": ".py",
   "mimetype": "text/x-python",
   "name": "python",
   "nbconvert_exporter": "python",
   "pygments_lexer": "ipython3",
   "version": "3.9.7"
  }
 },
 "nbformat": 4,
 "nbformat_minor": 5
}
