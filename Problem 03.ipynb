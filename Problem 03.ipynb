{
 "cells": [
  {
   "cell_type": "markdown",
   "metadata": {},
   "source": [
    "# Compression and decompression of a string"
   ]
  },
  {
   "cell_type": "markdown",
   "metadata": {},
   "source": [
    "From [Google](https://techdevguide.withgoogle.com/paths/advanced/compress-decompression/#code-challenge)\n",
    "\n",
    "In this exercise, you're going to decompress a compressed string.\n",
    "\n",
    "Your input is a compressed string of the format `number[string]` and the decompressed output form should be the `string` written `number` times. For example:\n",
    "\n",
    "The input\n",
    "\n",
    "`3[abc]4[ab]c`\n",
    "\n",
    "Would be output as\n",
    "\n",
    "`abcabcabcababababc`\n",
    "\n",
    "**Other rules**\n",
    "\n",
    "Number can have more than one digit. For example, `10[a]` is allowed, and just means `aaaaaaaaaa`\n",
    "\n",
    "One repetition can occur inside another. For example, `2[3[a]b]` decompresses into `aaabaaab`\n",
    "\n",
    "Characters allowed as input include digits, small English letters and brackets `[ ]`.\n",
    "\n",
    "Digits are only to represent amount of repetitions.\n",
    "\n",
    "Letters are just letters.\n",
    "\n",
    "Brackets are only part of syntax of writing repeated substring.\n",
    "\n",
    "Input is always valid, so no need to check its validity.\n",
    "\n",
    "**Learning objectives**\n",
    "\n",
    "This question gives you the chance to practice with strings, recursion, algorithm, compilers, automata, and loops. It’s also an opportunity to work on coding with better efficiency."
   ]
  },
  {
   "cell_type": "code",
   "execution_count": 1,
   "metadata": {},
   "outputs": [],
   "source": [
    "def decompress(input_string):\n",
    "    \n",
    "    # Length of the input string\n",
    "    N = len(input_string)\n",
    "    \n",
    "    # To check if there are only letters or not\n",
    "    a = 1;\n",
    "    \n",
    "    # Look for the first \"]\" forward\n",
    "    for i in range(0,N):\n",
    "        if input_string[i] == \"]\":\n",
    "            \n",
    "            # If there is a \"]\", it means that we do not have only letters\n",
    "            a = 0;\n",
    "            \n",
    "            # When the first \"]\" is found, look for the first \"[\" backwards\n",
    "            for j in range(i,-1,-1):\n",
    "                if input_string[j] == \"[\":\n",
    "                    \n",
    "                    # When the first \"[.]\" is found, look for the full number just in front of it\n",
    "                    number_string = \"\"\n",
    "                    for k in range(j-1,-1,-1):\n",
    "                        if input_string[k].isdigit():\n",
    "                            \n",
    "                            # Full number in front of \"[.]\"\n",
    "                            number_string = input_string[k]+number_string\n",
    "                        else:\n",
    "                            \n",
    "                            # If there is no more digits, stop and re-update the index\n",
    "                            k = k+1\n",
    "                            break\n",
    "                    break\n",
    "            break\n",
    "    \n",
    "    # If there are only letters, just output the input\n",
    "    if a == 1:\n",
    "        output_string = input_string\n",
    "    # Else, build the output by decompressing the first found x[.]\n",
    "    else:\n",
    "        # Decompress the first found x[.]\n",
    "        output_string = \"\"\n",
    "        for l in range(0,int(number_string)):\n",
    "            output_string = output_string+input_string[j+1:i]\n",
    "        \n",
    "        # Update the output\n",
    "        output_string = input_string[0:k]+output_string+input_string[i+1:]\n",
    "        \n",
    "        # Check again for more compressed x[.]\n",
    "        output_string = decompress(output_string)\n",
    "            \n",
    "    return output_string"
   ]
  },
  {
   "cell_type": "code",
   "execution_count": 2,
   "metadata": {},
   "outputs": [
    {
     "data": {
      "text/plain": [
       "'abcabcabcababababc'"
      ]
     },
     "execution_count": 2,
     "metadata": {},
     "output_type": "execute_result"
    }
   ],
   "source": [
    "decompress(\"3[abc]4[ab]c\")"
   ]
  },
  {
   "cell_type": "code",
   "execution_count": 3,
   "metadata": {},
   "outputs": [
    {
     "data": {
      "text/plain": [
       "'aaaaaaaaaa'"
      ]
     },
     "execution_count": 3,
     "metadata": {},
     "output_type": "execute_result"
    }
   ],
   "source": [
    "decompress(\"10[a]\")"
   ]
  },
  {
   "cell_type": "code",
   "execution_count": 4,
   "metadata": {},
   "outputs": [
    {
     "data": {
      "text/plain": [
       "'aaabaaab'"
      ]
     },
     "execution_count": 4,
     "metadata": {},
     "output_type": "execute_result"
    }
   ],
   "source": [
    "decompress(\"2[3[a]b]\")"
   ]
  }
 ],
 "metadata": {
  "kernelspec": {
   "display_name": "Python 3",
   "language": "python",
   "name": "python3"
  },
  "language_info": {
   "codemirror_mode": {
    "name": "ipython",
    "version": 3
   },
   "file_extension": ".py",
   "mimetype": "text/x-python",
   "name": "python",
   "nbconvert_exporter": "python",
   "pygments_lexer": "ipython3",
   "version": "3.7.3"
  }
 },
 "nbformat": 4,
 "nbformat_minor": 2
}
