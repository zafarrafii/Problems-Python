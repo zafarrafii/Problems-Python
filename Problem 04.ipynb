{
 "cells": [
  {
   "cell_type": "markdown",
   "metadata": {},
   "source": [
    "# Distribute candies"
   ]
  },
  {
   "cell_type": "markdown",
   "metadata": {},
   "source": [
    "From [LeetCode](https://leetcode.com/problems/distribute-candies/#/description)\n",
    "\n",
    "Given an integer array with **even** length, where different numbers in this array represent different **kinds** of candies. Each number means one candy of the corresponding kind. You need to distribute these candies **equally** in number to brother and sister. Return the maximum number of **kinds** of candies the sister could gain.\n",
    "\n",
    "**Example 1**:\n",
    "```\n",
    "Input: candies = [1,1,2,2,3,3]\n",
    "Output: 3\n",
    "Explanation:\n",
    "There are three different kinds of candies (1, 2 and 3), and two candies for each kind.\n",
    "Optimal distribution: The sister has candies [1,2,3] and the brother has candies [1,2,3], too. \n",
    "The sister has three different kinds of candies.\n",
    "```\n",
    "\n",
    "**Example 2**:\n",
    "```\n",
    "Input: candies = [1,1,2,3]\n",
    "Output: 2\n",
    "Explanation: For example, the sister has candies [2,3] and the brother has candies [1,1]. \n",
    "The sister has two different kinds of candies, the brother has only one kind of candies. \n",
    "```\n",
    "\n",
    "**Note**:\n",
    "\n",
    "1. The length of the given array is in range [2, 10,000], and will be even.\n",
    "2. The number in given array is in range [-100,000, 100,000]."
   ]
  },
  {
   "cell_type": "code",
   "execution_count": 1,
   "metadata": {},
   "outputs": [],
   "source": [
    "import numpy as np\n",
    "\n",
    "class Solution:\n",
    "    def distributeCandies(self, candies):\n",
    "        \n",
    "        # Number of candies (always even)\n",
    "        number_candies = len(candies)\n",
    "        \n",
    "        # Not a candy number (out of the range)\n",
    "        not_candy = 100001\n",
    "        \n",
    "        # Initialize the index, candy kind, and sister's candy array\n",
    "        i = 0\n",
    "        candy_kind = not_candy\n",
    "        candies_sister = []\n",
    "        \n",
    "        # Loop as long as the sister does not have half of the candies\n",
    "        while len(candies_sister) != number_candies/2:\n",
    "            \n",
    "            # If the end of the candy array is reached, re-initialize the index and candy kind\n",
    "            if i == number_candies-1:\n",
    "                i = 0\n",
    "                candy_kind = not_candy\n",
    "            \n",
    "            # If it is the right candy, give it to the sister and update the candy kind and array\n",
    "            if candies[i] != not_candy:\n",
    "                if candies[i] != candy_kind:\n",
    "                    candies_sister.append(candies[i])\n",
    "                    candy_kind = candies[i]\n",
    "                    candies[i] = not_candy\n",
    "            \n",
    "            # Update the index\n",
    "            i = i+1\n",
    "        \n",
    "        # Return the sister's candy array and the number of kinds of candies she has\n",
    "        return candies_sister, len(np.unique(candies_sister))"
   ]
  },
  {
   "cell_type": "code",
   "execution_count": 2,
   "metadata": {},
   "outputs": [
    {
     "data": {
      "text/plain": [
       "([1, 2, 3], 3)"
      ]
     },
     "execution_count": 2,
     "metadata": {},
     "output_type": "execute_result"
    }
   ],
   "source": [
    "sol = Solution()\n",
    "sol.distributeCandies([1,1,2,2,3,3])"
   ]
  },
  {
   "cell_type": "code",
   "execution_count": 3,
   "metadata": {},
   "outputs": [
    {
     "data": {
      "text/plain": [
       "([1, 2], 2)"
      ]
     },
     "execution_count": 3,
     "metadata": {},
     "output_type": "execute_result"
    }
   ],
   "source": [
    "sol = Solution()\n",
    "sol.distributeCandies([1,1,2,3])"
   ]
  }
 ],
 "metadata": {
  "kernelspec": {
   "display_name": "Python 3",
   "language": "python",
   "name": "python3"
  },
  "language_info": {
   "codemirror_mode": {
    "name": "ipython",
    "version": 3
   },
   "file_extension": ".py",
   "mimetype": "text/x-python",
   "name": "python",
   "nbconvert_exporter": "python",
   "pygments_lexer": "ipython3",
   "version": "3.7.3"
  }
 },
 "nbformat": 4,
 "nbformat_minor": 2
}
