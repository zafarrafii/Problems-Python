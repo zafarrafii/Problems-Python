{
 "cells": [
  {
   "cell_type": "markdown",
   "metadata": {},
   "source": [
    "# Distribute candies"
   ]
  },
  {
   "cell_type": "markdown",
   "metadata": {},
   "source": [
    "*From [LeetCode](https://leetcode.com/problems/distribute-candies/#/description)*\n",
    "\n",
    "Given an integer array with **even** length, where different numbers in this array represent different **kinds** of candies. Each number means one candy of the corresponding kind. You need to distribute these candies **equally** in number to brother and sister. Return the maximum number of **kinds** of candies the sister could gain.\n",
    "\n",
    "**Example 1**:\n",
    "```\n",
    "Input: candies = [1,1,2,2,3,3]\n",
    "Output: 3\n",
    "Explanation:\n",
    "There are three different kinds of candies (1, 2 and 3), and two candies for each kind.\n",
    "Optimal distribution: The sister has candies [1,2,3] and the brother has candies [1,2,3], too. \n",
    "The sister has three different kinds of candies.\n",
    "```\n",
    "\n",
    "**Example 2**:\n",
    "```\n",
    "Input: candies = [1,1,2,3]\n",
    "Output: 2\n",
    "Explanation: For example, the sister has candies [2,3] and the brother has candies [1,1]. \n",
    "The sister has two different kinds of candies, the brother has only one kind of candies. \n",
    "```\n",
    "\n",
    "**Note**:\n",
    "\n",
    "1. The length of the given array is in range [2, 10,000], and will be even.\n",
    "2. The number in given array is in range [-100,000, 100,000]."
   ]
  },
  {
   "cell_type": "code",
   "execution_count": 1,
   "metadata": {},
   "outputs": [],
   "source": [
    "# Public class without a constructor\n",
    "class Solution:\n",
    "    \n",
    "    # Static method without a self\n",
    "    @staticmethod\n",
    "    def distributeCandies(candies):\n",
    "        \n",
    "        # Number of candies for the sister (= half of the candies)\n",
    "        number_sister = int(len(candies)/2)\n",
    "        \n",
    "        # List of unique candy kinds (convert the set to a list)\n",
    "        candies_unique = list(set(candies))\n",
    "        \n",
    "        # Number of unique candy kinds\n",
    "        number_unique = len(candies_unique)\n",
    "        \n",
    "        # If the number of candy kinds is equal to half of the candies\n",
    "        if number_unique == number_sister:\n",
    "            \n",
    "            # The list of candies for the sister is the list of candy kinds\n",
    "            candies_sister = candies_unique\n",
    "        \n",
    "        # If the number of candy kinds is greater than half of the candies\n",
    "        elif number_unique > number_sister:\n",
    "            \n",
    "            # The list of candies for the sister is the list of candy kinds truncated\n",
    "            candies_sister = candies_unique[0:number_sister]\n",
    "            \n",
    "        # If the number of candy kinds is less than half of the candies\n",
    "        elif number_unique < number_sister:\n",
    "            \n",
    "            # Loop over the list of candy kinds\n",
    "            for i in candies_unique:\n",
    "\n",
    "                # Remove the corresponding candies from the input array of candies\n",
    "                candies.remove(i)\n",
    "            \n",
    "            # The list of candies for the sister is the list of candy kinds plus more non-unique candies\n",
    "            candies_sister = candies_unique + candies_unique[0:number_sister-number_unique]\n",
    "        \n",
    "        # Sort the list of candies for the sister\n",
    "        candies_sister.sort()\n",
    "        \n",
    "        # Return the list of candies for the sister and the corresponding number of kinds\n",
    "        return candies_sister, len(set(candies_sister))\n",
    "        "
   ]
  },
  {
   "cell_type": "code",
   "execution_count": 2,
   "metadata": {},
   "outputs": [
    {
     "data": {
      "text/plain": [
       "([1, 2, 3], 3)"
      ]
     },
     "execution_count": 2,
     "metadata": {},
     "output_type": "execute_result"
    }
   ],
   "source": [
    "sol = Solution()\n",
    "sol.distributeCandies([1,1,2,2,3,3])"
   ]
  },
  {
   "cell_type": "code",
   "execution_count": 3,
   "metadata": {},
   "outputs": [
    {
     "data": {
      "text/plain": [
       "([1, 2], 2)"
      ]
     },
     "execution_count": 3,
     "metadata": {},
     "output_type": "execute_result"
    }
   ],
   "source": [
    "sol = Solution()\n",
    "sol.distributeCandies([1,1,2,3])"
   ]
  }
 ],
 "metadata": {
  "kernelspec": {
   "display_name": "Python 3",
   "language": "python",
   "name": "python3"
  },
  "language_info": {
   "codemirror_mode": {
    "name": "ipython",
    "version": 3
   },
   "file_extension": ".py",
   "mimetype": "text/x-python",
   "name": "python",
   "nbconvert_exporter": "python",
   "pygments_lexer": "ipython3",
   "version": "3.7.3"
  }
 },
 "nbformat": 4,
 "nbformat_minor": 2
}
