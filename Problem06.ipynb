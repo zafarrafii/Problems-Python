{
 "cells": [
  {
   "cell_type": "markdown",
   "metadata": {},
   "source": [
    "# Find the volume of each lake created by rainwater"
   ]
  },
  {
   "cell_type": "markdown",
   "metadata": {},
   "source": [
    "*From [Google](https://techdevguide.withgoogle.com/paths/advanced/volume-of-water/#code-challenge)*\n",
    "\n",
    "Imagine an island that is in the shape of a bar graph. When it rains, certain areas of the island fill up with rainwater to form lakes. Any excess rainwater the island cannot hold in lakes will run off the island to the west or east and drain into the ocean.\n",
    "\n",
    "Given an array of positive integers representing 2-D bar heights, design an algorithm (or write a function) that can compute the total volume (capacity) of water that could be held in all lakes on such an island given an array of the heights of the bars. Assume an elevation map where the width of each bar is 1.\n",
    "\n",
    "Example: Given ``[1,3,2,4,1,3,1,4,5,2,2,1,4,2,2]``, return ``15`` (3 bodies of water with volumes of 1,7,7 yields total volume of 15)\n",
    "\n",
    "![title](https://techdevguide.withgoogle.com/static/images/resources/r-in-25-volume-of-water-1.jpg)\n",
    "\n",
    "**Learning objectives**\n",
    "\n",
    "This question offers practice with algorithms, data structures, Big-O, defining functions, generalization, efficiency, time and space complexity, and anticipating edge cases."
   ]
  },
  {
   "cell_type": "code",
   "execution_count": 1,
   "metadata": {},
   "outputs": [],
   "source": [
    "def volume(input_array):\n",
    "    \n",
    "    # Number of elements in the array\n",
    "    array_length = len(input_array)\n",
    "    \n",
    "    # Unique values in the array\n",
    "    unique_values = list(set(input_array))\n",
    "    \n",
    "    # Total volume, initialized\n",
    "    total_volume = 0\n",
    "    \n",
    "    # Loop over the unique values\n",
    "    for i in range(len(unique_values)):\n",
    "        \n",
    "        # First and last indices for the current unique value\n",
    "        first_index = input_array.index(unique_values[i])\n",
    "        last_index = array_length-input_array[::-1].index(unique_values[i])-1\n",
    "        \n",
    "        # If there are at least two of the current unique value\n",
    "        if first_index != last_index:\n",
    "            \n",
    "            # Loop over the interval formed by the two different indices\n",
    "            for j in range(first_index+1, last_index+1):\n",
    "                \n",
    "                # If the current interval value is less than the current unique value\n",
    "                if input_array[j] < unique_values[i]:\n",
    "                    \n",
    "                    # Update the total volume by the difference of the values\n",
    "                    total_volume = total_volume+input_array[first_index]-input_array[j]\n",
    "                    \n",
    "                    # Update the current interval value\n",
    "                    input_array[j] =  unique_values[i]\n",
    "            \n",
    "    # Return the results\n",
    "    return total_volume"
   ]
  },
  {
   "cell_type": "code",
   "execution_count": 2,
   "metadata": {},
   "outputs": [
    {
     "data": {
      "text/plain": [
       "15"
      ]
     },
     "execution_count": 2,
     "metadata": {},
     "output_type": "execute_result"
    }
   ],
   "source": [
    "volume([1,3,2,4,1,3,1,4,5,2,2,1,4,2,2])"
   ]
  }
 ],
 "metadata": {
  "kernelspec": {
   "display_name": "Python 3",
   "language": "python",
   "name": "python3"
  },
  "language_info": {
   "codemirror_mode": {
    "name": "ipython",
    "version": 3
   },
   "file_extension": ".py",
   "mimetype": "text/x-python",
   "name": "python",
   "nbconvert_exporter": "python",
   "pygments_lexer": "ipython3",
   "version": "3.7.3"
  }
 },
 "nbformat": 4,
 "nbformat_minor": 2
}
