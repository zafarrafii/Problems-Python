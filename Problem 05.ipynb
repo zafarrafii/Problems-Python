{
 "cells": [
  {
   "cell_type": "markdown",
   "metadata": {},
   "source": [
    "# [Find longest word in dictionary that is a subsequence of a given string](https://techdevguide.withgoogle.com/paths/foundational/find-longest-word-in-dictionary-that-subsequence-of-given-string/#code-challenge)"
   ]
  },
  {
   "cell_type": "markdown",
   "metadata": {},
   "source": [
    "**The Challenge**\n",
    "\n",
    "Given a string ``S`` and a set of words ``D``, find the longest word in ``D`` that is a subsequence of ``S``.\n",
    "\n",
    "Word ``W`` is a subsequence of ``S`` if some number of characters, possibly zero, can be deleted from ``S`` to form ``W``, without reordering the remaining characters.\n",
    "\n",
    "Note: ``D`` can appear in any format (list, hash table, prefix tree, etc.\n",
    "\n",
    "For example, given the input of ``S = \"abppplee\"`` and ``D = {\"able\", \"ale\", \"apple\", \"bale\", \"kangaroo\"}`` the correct output would be ``\"apple\"``\n",
    "\n",
    "- The words \"able\" and \"ale\" are both subsequences of S, but they are shorter than \"apple\".\n",
    "- The word \"bale\" is not a subsequence of S because even though S has all the right letters, they are not in the right order.\n",
    "- The word \"kangaroo\" is the longest word in D, but it isn't a subsequence of S.\n",
    "\n",
    "**Learning objectives**\n",
    "\n",
    "This question gives you the chance to practice with algorithms and data structures. It’s also a good example of why careful analysis for Big-O performance is often worthwhile, as is careful exploration of common and worst-case input conditions."
   ]
  },
  {
   "cell_type": "code",
   "execution_count": 9,
   "metadata": {},
   "outputs": [],
   "source": [
    "def find_longest_subsequence(S,D):\n",
    "\n",
    "    import numpy as np\n",
    "\n",
    "    N = len(D)\n",
    "    Ns = len(S)\n",
    "    A = np.zeros(N)\n",
    "    for i in range(0,N):\n",
    "        Di = D[i]\n",
    "        Ni = len(Di)\n",
    "        k = 0\n",
    "        j = 0\n",
    "        while j < Ni and k < Ns:\n",
    "            if Di[j]==S[k]:\n",
    "                A[i] = A[i]+1\n",
    "                j = j+1\n",
    "            k = k+1\n",
    "    return D[np.argmax(A)]"
   ]
  },
  {
   "cell_type": "code",
   "execution_count": 10,
   "metadata": {},
   "outputs": [
    {
     "data": {
      "text/plain": [
       "'apple'"
      ]
     },
     "execution_count": 10,
     "metadata": {},
     "output_type": "execute_result"
    }
   ],
   "source": [
    "S = \"abppplee\"\n",
    "D = [\"able\", \"ale\", \"apple\", \"bale\", \"kangaroo\"]\n",
    "find_longest_subsequence(S,D)"
   ]
  },
  {
   "cell_type": "markdown",
   "metadata": {},
   "source": [
    "# [Simple interpreter problem-solving](https://codingbat.com/prob/p234011)"
   ]
  },
  {
   "cell_type": "markdown",
   "metadata": {},
   "source": [
    "Write a simple interpreter which understands \"+\", \"-\", and \"\\*\" operations. Apply the operations in order using command/arg pairs starting with the initial value of `value`. If you encounter an unknown command, return -1. interpret(1, [\"+\"], [1]) → 2 interpret(4, [\"-\"], [2]) → 2 interpret(1, [\"+\", \"*\"], [1, 3]) → 6\n",
    "\n",
    "\n",
    "- interpret(1, ['+'], [1]) → 2\n",
    "- interpret(4, ['-'], [2]) → 2\n",
    "- interpret(1, ['+', '*'], [1, 3]) → 6"
   ]
  },
  {
   "cell_type": "code",
   "execution_count": 1,
   "metadata": {},
   "outputs": [],
   "source": [
    "def interpret(value, commands, args):\n",
    "    \n",
    "  results = value\n",
    "  N = len(args)\n",
    "  for i in range(0,N):\n",
    "    if commands[i] == \"+\":\n",
    "      results = results + args[i]\n",
    "    elif commands[i] == \"-\":\n",
    "      results = results - args[i]\n",
    "    elif commands[i] == \"*\":\n",
    "      results = results * args[i]\n",
    "    else:\n",
    "      results = -1\n",
    "      break\n",
    "    \n",
    "  return results"
   ]
  },
  {
   "cell_type": "code",
   "execution_count": 5,
   "metadata": {},
   "outputs": [
    {
     "data": {
      "text/plain": [
       "2"
      ]
     },
     "execution_count": 5,
     "metadata": {},
     "output_type": "execute_result"
    }
   ],
   "source": [
    "interpret(1, ['+'], [1]) "
   ]
  },
  {
   "cell_type": "code",
   "execution_count": 6,
   "metadata": {},
   "outputs": [
    {
     "data": {
      "text/plain": [
       "2"
      ]
     },
     "execution_count": 6,
     "metadata": {},
     "output_type": "execute_result"
    }
   ],
   "source": [
    "interpret(4, ['-'], [2])"
   ]
  },
  {
   "cell_type": "code",
   "execution_count": 7,
   "metadata": {},
   "outputs": [
    {
     "data": {
      "text/plain": [
       "6"
      ]
     },
     "execution_count": 7,
     "metadata": {},
     "output_type": "execute_result"
    }
   ],
   "source": [
    "interpret(1, ['+', '*'], [1, 3])"
   ]
  },
  {
   "cell_type": "code",
   "execution_count": 8,
   "metadata": {},
   "outputs": [
    {
     "data": {
      "text/plain": [
       "12"
      ]
     },
     "execution_count": 8,
     "metadata": {},
     "output_type": "execute_result"
    }
   ],
   "source": [
    "interpret(3, ['*'], [4])"
   ]
  },
  {
   "cell_type": "code",
   "execution_count": 9,
   "metadata": {},
   "outputs": [
    {
     "data": {
      "text/plain": [
       "-1"
      ]
     },
     "execution_count": 9,
     "metadata": {},
     "output_type": "execute_result"
    }
   ],
   "source": [
    "interpret(0, ['?'], [4])"
   ]
  },
  {
   "cell_type": "code",
   "execution_count": 10,
   "metadata": {},
   "outputs": [
    {
     "data": {
      "text/plain": [
       "4"
      ]
     },
     "execution_count": 10,
     "metadata": {},
     "output_type": "execute_result"
    }
   ],
   "source": [
    "interpret(1, ['+', '*', '-'], [1, 3, 2])"
   ]
  },
  {
   "cell_type": "markdown",
   "metadata": {},
   "source": [
    "# [Compression and Decompression](https://techdevguide.withgoogle.com/paths/advanced/compress-decompression/#code-challenge)"
   ]
  },
  {
   "cell_type": "markdown",
   "metadata": {},
   "source": [
    "**The Challenge**\n",
    "\n",
    "In this exercise, you're going to decompress a compressed string.\n",
    "\n",
    "Your input is a compressed string of the format `number[string]` and the decompressed output form should be the `string` written `number` times. For example:\n",
    "\n",
    "The input\n",
    "\n",
    "`3[abc]4[ab]c`\n",
    "\n",
    "Would be output as\n",
    "\n",
    "`abcabcabcababababc`\n",
    "\n",
    "**Other rules**\n",
    "\n",
    "Number can have more than one digit. For example, `10[a]` is allowed, and just means `aaaaaaaaaa`\n",
    "\n",
    "One repetition can occur inside another. For example, `2[3[a]b]` decompresses into `aaabaaab`\n",
    "\n",
    "Characters allowed as input include digits, small English letters and brackets `[ ]`.\n",
    "\n",
    "Digits are only to represent amount of repetitions.\n",
    "\n",
    "Letters are just letters.\n",
    "\n",
    "Brackets are only part of syntax of writing repeated substring.\n",
    "\n",
    "Input is always valid, so no need to check its validity.\n",
    "\n",
    "**Learning objectives**\n",
    "\n",
    "This question gives you the chance to practice with strings, recursion, algorithm, compilers, automata, and loops. It’s also an opportunity to work on coding with better efficiency."
   ]
  },
  {
   "cell_type": "code",
   "execution_count": 336,
   "metadata": {},
   "outputs": [],
   "source": [
    "def decompress(input_string):\n",
    "    \n",
    "    N = len(input_string)\n",
    "    \n",
    "    # To check if there are only letters or not\n",
    "    a = 1;\n",
    "    \n",
    "    # Look for the first \"]\" forward\n",
    "    for i in range(0,N):\n",
    "        if input_string[i] == \"]\":\n",
    "            \n",
    "            # If there is a \"]\", it means that we don't have only letters\n",
    "            a = 0;\n",
    "            \n",
    "            # When first \"]\" found, look for the first \"[\" backwards\n",
    "            for j in range(i,-1,-1):\n",
    "                if input_string[j] == \"[\":\n",
    "                    \n",
    "                    # When first \"[.]\" found, look for the full number just in front of it\n",
    "                    number_string = \"\"\n",
    "                    for k in range(j-1,-1,-1):\n",
    "                        if input_string[k].isdigit():\n",
    "                            \n",
    "                            # Full number in front of \"[.]\"\n",
    "                            number_string = input_string[k]+number_string\n",
    "                        else:\n",
    "                            \n",
    "                            # If no more digits, stop and re-update the index\n",
    "                            k = k+1\n",
    "                            break\n",
    "                    break\n",
    "            break\n",
    "    \n",
    "    # If there are only letters, just output the input\n",
    "    if a == 1:\n",
    "        output_string = input_string\n",
    "    # Else, build the output by decompressing the first found x[.]\n",
    "    else:\n",
    "        # Decompress the first found x[.]\n",
    "        output_string = \"\"\n",
    "        for l in range(0,int(number_string)):\n",
    "            output_string = output_string+input_string[j+1:i]\n",
    "        \n",
    "        # Update the output\n",
    "        output_string = input_string[0:k]+output_string+input_string[i+1:]\n",
    "        \n",
    "        # Check again for more compressed x[.]\n",
    "        output_string = decompress(output_string)\n",
    "            \n",
    "    return output_string"
   ]
  },
  {
   "cell_type": "code",
   "execution_count": 337,
   "metadata": {},
   "outputs": [
    {
     "data": {
      "text/plain": [
       "'aaa'"
      ]
     },
     "execution_count": 337,
     "metadata": {},
     "output_type": "execute_result"
    }
   ],
   "source": [
    "decompress(\"aaa\")"
   ]
  },
  {
   "cell_type": "code",
   "execution_count": 338,
   "metadata": {},
   "outputs": [
    {
     "data": {
      "text/plain": [
       "'abcabcabc'"
      ]
     },
     "execution_count": 338,
     "metadata": {},
     "output_type": "execute_result"
    }
   ],
   "source": [
    "decompress(\"3[abc]\")"
   ]
  },
  {
   "cell_type": "code",
   "execution_count": 339,
   "metadata": {},
   "outputs": [
    {
     "data": {
      "text/plain": [
       "'aaabaaab'"
      ]
     },
     "execution_count": 339,
     "metadata": {},
     "output_type": "execute_result"
    }
   ],
   "source": [
    "decompress(\"2[3[a]b]\")"
   ]
  },
  {
   "cell_type": "code",
   "execution_count": 340,
   "metadata": {},
   "outputs": [
    {
     "data": {
      "text/plain": [
       "'abcabcabcababababc'"
      ]
     },
     "execution_count": 340,
     "metadata": {},
     "output_type": "execute_result"
    }
   ],
   "source": [
    "decompress(\"3[abc]4[ab]c\")"
   ]
  },
  {
   "cell_type": "code",
   "execution_count": 341,
   "metadata": {},
   "outputs": [
    {
     "data": {
      "text/plain": [
       "'aaaaaaaaaa'"
      ]
     },
     "execution_count": 341,
     "metadata": {},
     "output_type": "execute_result"
    }
   ],
   "source": [
    "decompress(\"10[a]\")"
   ]
  },
  {
   "cell_type": "markdown",
   "metadata": {},
   "source": [
    "# [Distribute Candies](https://leetcode.com/problems/distribute-candies/#/description)"
   ]
  },
  {
   "cell_type": "markdown",
   "metadata": {},
   "source": [
    "Given an integer array with even length, where different numbers in this array represent different kinds of candies. Each number means one candy of the corresponding kind. You need to distribute these candies equally in number to brother and sister. Return the maximum number of kinds of candies the sister could gain.\n",
    "\n",
    "**Example 1**:\n",
    "```\n",
    "Input: candies = [1,1,2,2,3,3]\n",
    "Output: 3\n",
    "Explanation:\n",
    "There are three different kinds of candies (1, 2 and 3), and two candies for each kind.\n",
    "Optimal distribution: The sister has candies [1,2,3] and the brother has candies [1,2,3], too. \n",
    "The sister has three different kinds of candies.\n",
    "```\n",
    "\n",
    "**Example 2**:\n",
    "```\n",
    "Input: candies = [1,1,2,3]\n",
    "Output: 2\n",
    "Explanation: For example, the sister has candies [2,3] and the brother has candies [1,1]. \n",
    "The sister has two different kinds of candies, the brother has only one kind of candies. \n",
    "```\n",
    "\n",
    "**Note**:\n",
    "\n",
    "1. The length of the given array is in range [2, 10,000], and will be even.\n",
    "2. The number in given array is in range [-100,000, 100,000]."
   ]
  },
  {
   "cell_type": "code",
   "execution_count": 116,
   "metadata": {},
   "outputs": [],
   "source": [
    "class Solution:\n",
    "    def distributeCandies(self, candies):\n",
    "        \n",
    "        # Sort the candy numbers first\n",
    "        candies = sorted(candies)\n",
    "        \n",
    "        # Number of candies and half of it\n",
    "        number_candies = len(candies)\n",
    "        number_candies2 = int(number_candies/2)\n",
    "        \n",
    "        # Not a candy number\n",
    "        not_candy = 100001\n",
    "        \n",
    "        # Initialization\n",
    "        i = 0\n",
    "        candy_kind = not_candy\n",
    "        candies_sister = []\n",
    "        \n",
    "        # Loop as long as the sister does not have half of the candies\n",
    "        while len(candies_sister) != number_candies2:\n",
    "            \n",
    "            # If the end of the array is reached, re-initialize\n",
    "            if i == number_candies-1:\n",
    "                i = 0\n",
    "                candy_kind = not_candy\n",
    "                \n",
    "            if candies[i] != not_candy:\n",
    "                if candies[i] != candy_kind:\n",
    "                    candies_sister.append(candies[i])\n",
    "                    candy_kind = candies[i]\n",
    "                    candies[i] = not_candy\n",
    "            \n",
    "            i = i+1\n",
    "                \n",
    "        return candies_sister, len(candies_sister)"
   ]
  },
  {
   "cell_type": "code",
   "execution_count": 117,
   "metadata": {},
   "outputs": [
    {
     "data": {
      "text/plain": [
       "([1, 2, 3], 3)"
      ]
     },
     "execution_count": 117,
     "metadata": {},
     "output_type": "execute_result"
    }
   ],
   "source": [
    "sol = Solution()\n",
    "sol.distributeCandies([1,1,2,2,3,3])"
   ]
  },
  {
   "cell_type": "code",
   "execution_count": 118,
   "metadata": {},
   "outputs": [
    {
     "data": {
      "text/plain": [
       "([1, 2], 2)"
      ]
     },
     "execution_count": 118,
     "metadata": {},
     "output_type": "execute_result"
    }
   ],
   "source": [
    "sol = Solution()\n",
    "sol.distributeCandies([1,1,2,3])"
   ]
  },
  {
   "cell_type": "code",
   "execution_count": 119,
   "metadata": {},
   "outputs": [
    {
     "data": {
      "text/plain": [
       "([1, 1], 2)"
      ]
     },
     "execution_count": 119,
     "metadata": {},
     "output_type": "execute_result"
    }
   ],
   "source": [
    "sol = Solution()\n",
    "sol.distributeCandies([1,1,1,1])"
   ]
  },
  {
   "cell_type": "markdown",
   "metadata": {},
   "source": [
    "# [Movie Review Sentiment Analysis](http://nifty.stanford.edu/2016/manley-urness-movie-review-sentiment/)"
   ]
  },
  {
   "cell_type": "markdown",
   "metadata": {},
   "source": [
    "**About**\n",
    "\n",
    "This assignment uses movie reviews from the Rotten Tomatoes database to do some simple sentiment analysis. Students will write programs that use the review text and a manually labeled review score to automatically learn how negative or positive the connotations of a particular word are. This can then be used to predict the sentiment of new text with reasonably good results. For example, student programs will be able to read text like this:\n",
    "\n",
    "*The film was a breath of fresh air.*\n",
    "\n",
    "and predict that it is a positive review while predicting negative sentiment for text like this:\n",
    "\n",
    "*It made me want to poke out my eyeballs.*\n",
    "\n",
    "The data (with some pre-processing from us) is from a [Sentiment Analysis project at Stanford](https://nlp.stanford.edu/sentiment/) (which used a much more sophisticated algorithm) and has been used for a [Kaggle machine learning competition](https://www.kaggle.com/c/sentiment-analysis-on-movie-reviews).\n",
    "\n",
    "We have provided two examples of projects based on this idea that we have used in a CS 1 course and a CS 2 course, though there are many extensions that could be made for these or other higher-level courses.\n",
    "\n",
    "**Materials**\n",
    "- [Movie review data file](http://nifty.stanford.edu/2016/manley-urness-movie-review-sentiment/movieReviews.txt). We removed all of the partial reviews from the Kaggle data and reformatted it to make it a little easier for students to read into their programs.\n",
    "- [CS 1 Assignment Handout](http://nifty.stanford.edu/2016/manley-urness-movie-review-sentiment/CS1Project.doc). In this assignment, students use the data to determine the sentiment of individual words and practice common early CS 1 concepts like control structures, file I/O, accumulators/counters, min/max algorithm, and methods.\n",
    "- [CS 1 Starter Code](http://nifty.stanford.edu/2016/manley-urness-movie-review-sentiment/CS1SentimentStarterCode.zip). This code shows how to read the different fields of the movie review data and search for words within reviews. This is short and can be developed live with students or given ahead of time.\n",
    "- [CS 2 Assignment Handout](http://nifty.stanford.edu/2016/manley-urness-movie-review-sentiment/CS2Project.doc). In this assignment, students predict the sentiment of larger pieces of text. The assignment requires appropriate data structures (e.g. hash tables, custom classes) to increase the search speed and reduce the need for excessive file access.\n",
    "- [CS 2 Starter Code](http://nifty.stanford.edu/2016/manley-urness-movie-review-sentiment/CS2SentimentStarterCode.zip). This code shows how to read the movie review data. It also provides the .h files for the custom class and hash table functions that need to be implemented."
   ]
  },
  {
   "cell_type": "code",
   "execution_count": 17,
   "metadata": {},
   "outputs": [],
   "source": [
    "def cs11():\n",
    "\n",
    "    # Input prompt\n",
    "    word = input('Enter a word: ')\n",
    "\n",
    "    # Reviews file\n",
    "    reviews = 'C:/Users/raza7002/Gracenote/Exercises/Movie Review Sentiment Analysis/CS1SentimentStarterCode/movieReviews.txt'\n",
    "\n",
    "    # Initialize score and counter\n",
    "    score = 0\n",
    "    counter = 0\n",
    "\n",
    "    # Open file and check each line for the word\n",
    "    with open(reviews, 'r') as file:\n",
    "        for line in file:\n",
    "            if word.lower() in line.lower():\n",
    "                score = score + int(line[0])\n",
    "                counter = counter+1\n",
    "\n",
    "    # Average score if the file contains the word\n",
    "    if counter != 0:\n",
    "        score = score/counter\n",
    "    else:\n",
    "        score = float('NaN')\n",
    "\n",
    "    # Print results\n",
    "    print(word + ' appears ' + str(counter) + ' times.')\n",
    "    print('The average score for reviews containing the word ' + word + ' is ' + str(score))"
   ]
  },
  {
   "cell_type": "code",
   "execution_count": 3,
   "metadata": {},
   "outputs": [
    {
     "name": "stdout",
     "output_type": "stream",
     "text": [
      "Enter a word: fantastic\n",
      "fantastic appears 14 times.\n",
      "The average score for reviews containing the word fantastic is 2.9285714285714284\n"
     ]
    }
   ],
   "source": [
    "cs11()"
   ]
  },
  {
   "cell_type": "code",
   "execution_count": 18,
   "metadata": {},
   "outputs": [],
   "source": [
    "def cs12():\n",
    "\n",
    "    # Input prompt\n",
    "    words_file = input('Enter the name of the file with words you want to score: ')\n",
    "    #words_file = 'C:/Users/raza7002/Gracenote/Python/Tests/Movie Review Sentiment Analysis/CS1SentimentStarterCode/wordList.txt'\n",
    "\n",
    "    # Reviews file\n",
    "    reviews_file = 'C:/Users/raza7002/Gracenote/Exercises/Movie Review Sentiment Analysis/CS1SentimentStarterCode/movieReviews.txt'\n",
    "\n",
    "    # Initialize overall score and counter\n",
    "    overall_score = 0\n",
    "    overall_counter = 0\n",
    "\n",
    "    # Open words file and check each line\n",
    "    with open(words_file, 'r') as words_file1:\n",
    "        for word_line in words_file1:\n",
    "\n",
    "            # Initialize word score and counter\n",
    "            word_score = 0\n",
    "            word_counter = 0\n",
    "\n",
    "            # Open reviews file and check each line\n",
    "            with open(reviews_file, 'r') as reviews_file1:\n",
    "                for review_line in reviews_file1:\n",
    "\n",
    "                    # Accumulate word score if word in review\n",
    "                    if word_line.rstrip().lower()in review_line.lower():\n",
    "\n",
    "                        word_score = word_score + int(review_line[0])\n",
    "                        word_counter = word_counter + 1\n",
    "            \n",
    "            # Average word score if the reviews contains the word\n",
    "            if word_counter != 0:\n",
    "                word_score = word_score/word_counter\n",
    "                overall_score = overall_score + word_score\n",
    "                overall_counter = overall_counter + 1\n",
    "            else:\n",
    "                word_score = float('NaN')\n",
    "\n",
    "    # Average overall score if the reviews contains the words\n",
    "    if overall_counter != 0:\n",
    "        overall_score = overall_score/overall_counter\n",
    "    else:\n",
    "        overall_score = float('NaN')\n",
    "\n",
    "    # Overall sentiment\n",
    "    if overall_score > 2.01:\n",
    "        overall_sentiment = 'positive'\n",
    "    elif overall_score < 1.99:\n",
    "        overall_sentiment = 'negative'\n",
    "    else:\n",
    "        overall_sentiment = 'neutral'\n",
    "\n",
    "    # Print results\n",
    "    print('The average score of words in ' + words_file + ' is ' + str(overall_score))\n",
    "    print('The overal sentiment of ' + words_file + ' is ' + overall_sentiment)"
   ]
  },
  {
   "cell_type": "code",
   "execution_count": 10,
   "metadata": {},
   "outputs": [
    {
     "name": "stdout",
     "output_type": "stream",
     "text": [
      "Enter the name of the file with words you want to score: C:/Users/raza7002/Gracenote/Python/Tests/Movie Review Sentiment Analysis/CS1SentimentStarterCode/wordList.txt\n",
      "The average score of words in C:/Users/raza7002/Gracenote/Python/Tests/Movie Review Sentiment Analysis/CS1SentimentStarterCode/wordList.txt is 1.9342285798738992\n",
      "The overal sentiment of C:/Users/raza7002/Gracenote/Python/Tests/Movie Review Sentiment Analysis/CS1SentimentStarterCode/wordList.txt is negative\n"
     ]
    }
   ],
   "source": [
    "cs12()"
   ]
  },
  {
   "cell_type": "code",
   "execution_count": 19,
   "metadata": {},
   "outputs": [],
   "source": [
    "def cs13(argument=None):\n",
    "    \n",
    "    if argument != 0 and argument != 1 and argument is None:\n",
    "        print('Argument has to be 0 or 1.')\n",
    "        return\n",
    "    \n",
    "    # Input prompt\n",
    "    words_file = input('Enter the name of the file with words you want to score: ')\n",
    "    #words_file = 'C:/Users/raza7002/Gracenote/Python/Exercises/Movie Review Sentiment Analysis/CS1SentimentStarterCode/wordList.txt'\n",
    "\n",
    "    # Reviews file\n",
    "    reviews_file = 'C:/Users/raza7002/Gracenote/Exercises/Movie Review Sentiment Analysis/CS1SentimentStarterCode/movieReviews.txt'\n",
    "    \n",
    "    # Initialize overall dictionary\n",
    "    overall_dictionary = dict()\n",
    "\n",
    "    # Open words file and check each line\n",
    "    with open(words_file, 'r') as words_file1:\n",
    "        for word_line in words_file1:\n",
    "\n",
    "            # Initialize word score and counter\n",
    "            word_score = 0\n",
    "            word_counter = 0\n",
    "\n",
    "            # Open reviews file and check each line\n",
    "            with open(reviews_file, 'r') as reviews_file1:\n",
    "                for review_line in reviews_file1:\n",
    "\n",
    "                    # Accumulate word score if word in review\n",
    "                    if word_line.rstrip().lower()in review_line.lower():\n",
    "\n",
    "                        word_score = word_score + int(review_line[0])\n",
    "                        word_counter = word_counter + 1\n",
    "            \n",
    "            # Average word score if the reviews contains the word\n",
    "            if word_counter != 0:\n",
    "                word_score = word_score/word_counter\n",
    "            else:\n",
    "                word_score = float('NaN')\n",
    "\n",
    "            # Store the word score in a dictionary\n",
    "            overall_dictionary[word_line.rstrip()] = word_score\n",
    "\n",
    "    if argument == 0:\n",
    "        \n",
    "        # Find most positive and negative words\n",
    "        positive_word = max(overall_dictionary, key=overall_dictionary.get)\n",
    "        negative_word = min(overall_dictionary, key=overall_dictionary.get)\n",
    "\n",
    "        # Print results\n",
    "        print('The most positive word, with a score of ' + str(overall_dictionary[positive_word]) + ' is ' + positive_word)\n",
    "        print('The most negative word, with a score of ' + str(overall_dictionary[negative_word]) + ' is ' + negative_word)\n",
    "    \n",
    "    elif argument == 1:\n",
    "        \n",
    "        # Create sorted positive and negative dictionaries\n",
    "        positive_dictionary = dict((key, value) for key, value in overall_dictionary.items() if value >= 2.1)\n",
    "        positive_dictionary = sorted(positive_dictionary, key=positive_dictionary.get)\n",
    "        negative_dictionary = dict((key, value) for key, value in overall_dictionary.items() if value <= 1.9)\n",
    "        negative_dictionary = sorted(negative_dictionary, key=negative_dictionary.get)\n",
    "\n",
    "        # Print results\n",
    "        print('Sorted positive dictionary (in ascending order) :'+ str(positive_dictionary))\n",
    "        print('Sorted negative dictionary (in ascending order) :'+ str(negative_dictionary))"
   ]
  },
  {
   "cell_type": "code",
   "execution_count": 14,
   "metadata": {},
   "outputs": [
    {
     "name": "stdout",
     "output_type": "stream",
     "text": [
      "Enter the name of the file with words you want to score: C:/Users/raza7002/Gracenote/Python/Tests/Movie Review Sentiment Analysis/CS1SentimentStarterCode/wordList.txt\n",
      "The most positive word, with a score of 3.8333333333333335 is tears\n",
      "The most negative word, with a score of 0.125 is incoherent\n",
      "\n"
     ]
    }
   ],
   "source": [
    "cs13(0)"
   ]
  },
  {
   "cell_type": "code",
   "execution_count": 15,
   "metadata": {},
   "outputs": [
    {
     "name": "stdout",
     "output_type": "stream",
     "text": [
      "Enter the name of the file with words you want to score: C:/Users/raza7002/Gracenote/Python/Tests/Movie Review Sentiment Analysis/CS1SentimentStarterCode/wordList.txt\n",
      "Sorted positive dictionary (in ascending order) :['historical', 'value', 'style', 'tale', 'eccentric', 'cast', 'strong', 'complicated', 'family', 'quirky', 'always', 'provoking', 'witty', 'moving', 'refreshing', 'wonderful', 'unpredictable', 'tears']\n",
      "Sorted negative dictionary (in ascending order) :['incoherent', 'unfocused', 'devoid', 'horrible', 'soulless', 'mechanical', 'resolutely', 'dull', 'formulaic', 'terrible', 'preachy', 'barely', 'indulgent', 'dialogue', 'muted', 'writing', 'hardly', 'interest', 'slapstick']\n"
     ]
    }
   ],
   "source": [
    "cs13(1)"
   ]
  },
  {
   "cell_type": "code",
   "execution_count": 20,
   "metadata": {},
   "outputs": [
    {
     "name": "stdout",
     "output_type": "stream",
     "text": [
      "What would you like to do?\n",
      "1: Get the score of a word\n",
      "2: Get the average score of words in a file (one word per line)\n",
      "3: Find the highest/lowest scoring words in a file\n",
      "4: Sort words from a file into positive.txt and negative.txt\n",
      "5: Exit the program\n",
      "Enter a number 1:5: 1\n",
      "\n",
      "Enter a word: heartbreaking\n",
      "heartbreaking appears 11 times.\n",
      "The average score for reviews containing the word heartbreaking is 3.1818181818181817\n",
      "\n",
      "What would you like to do?\n",
      "1: Get the score of a word\n",
      "2: Get the average score of words in a file (one word per line)\n",
      "3: Find the highest/lowest scoring words in a file\n",
      "4: Sort words from a file into positive.txt and negative.txt\n",
      "5: Exit the program\n",
      "Enter a number 1:5: 2\n",
      "\n",
      "Enter the name of the file with words you want to score: C:/Users/raza7002/Gracenote/Python/Tests/Movie Review Sentiment Analysis/CS1SentimentStarterCode/wordList.txt\n",
      "The average score of words in C:/Users/raza7002/Gracenote/Python/Tests/Movie Review Sentiment Analysis/CS1SentimentStarterCode/wordList.txt is 1.9342285798738992\n",
      "The overal sentiment of C:/Users/raza7002/Gracenote/Python/Tests/Movie Review Sentiment Analysis/CS1SentimentStarterCode/wordList.txt is negative\n",
      "\n",
      "What would you like to do?\n",
      "1: Get the score of a word\n",
      "2: Get the average score of words in a file (one word per line)\n",
      "3: Find the highest/lowest scoring words in a file\n",
      "4: Sort words from a file into positive.txt and negative.txt\n",
      "5: Exit the program\n",
      "Enter a number 1:5: 3\n",
      "\n",
      "Enter the name of the file with words you want to score: C:/Users/raza7002/Gracenote/Python/Tests/Movie Review Sentiment Analysis/CS1SentimentStarterCode/wordList.txt\n",
      "The most positive word, with a score of 3.8333333333333335 is tears\n",
      "The most negative word, with a score of 0.125 is incoherent\n",
      "\n",
      "\n",
      "What would you like to do?\n",
      "1: Get the score of a word\n",
      "2: Get the average score of words in a file (one word per line)\n",
      "3: Find the highest/lowest scoring words in a file\n",
      "4: Sort words from a file into positive.txt and negative.txt\n",
      "5: Exit the program\n",
      "Enter a number 1:5: 4\n",
      "\n",
      "Enter the name of the file with words you want to score: C:/Users/raza7002/Gracenote/Python/Tests/Movie Review Sentiment Analysis/CS1SentimentStarterCode/wordList.txt\n",
      "Sorted positive dictionary (in ascending order) :['historical', 'value', 'style', 'tale', 'eccentric', 'cast', 'strong', 'complicated', 'family', 'quirky', 'always', 'provoking', 'witty', 'moving', 'refreshing', 'wonderful', 'unpredictable', 'tears']\n",
      "Sorted negative dictionary (in ascending order) :['incoherent', 'unfocused', 'devoid', 'horrible', 'soulless', 'mechanical', 'resolutely', 'dull', 'formulaic', 'terrible', 'preachy', 'barely', 'indulgent', 'dialogue', 'muted', 'writing', 'hardly', 'interest', 'slapstick']\n",
      "\n",
      "What would you like to do?\n",
      "1: Get the score of a word\n",
      "2: Get the average score of words in a file (one word per line)\n",
      "3: Find the highest/lowest scoring words in a file\n",
      "4: Sort words from a file into positive.txt and negative.txt\n",
      "5: Exit the program\n",
      "Enter a number 1:5: 5\n",
      "\n"
     ]
    }
   ],
   "source": [
    "condition = True\n",
    "while condition:\n",
    "\n",
    "    # Menu\n",
    "    print('What would you like to do?')\n",
    "    print('1: Get the score of a word')\n",
    "    print('2: Get the average score of words in a file (one word per line)')\n",
    "    print('3: Find the highest/lowest scoring words in a file')\n",
    "    print('4: Sort words from a file into positive.txt and negative.txt')\n",
    "    print('5: Exit the program')\n",
    "    input_value = input('Enter a number 1:5: ')\n",
    "    print('')\n",
    "    \n",
    "    input_value = int(input_value)\n",
    "    if input_value == 1:\n",
    "        cs11()\n",
    "        print('')\n",
    "    elif input_value == 2:\n",
    "        cs12()\n",
    "        print('')\n",
    "    elif input_value == 3:\n",
    "        cs13(0)\n",
    "        print('')\n",
    "    elif input_value == 4:\n",
    "        cs13(1)\n",
    "        print('')\n",
    "    elif input_value == 5:\n",
    "        condition = False\n",
    "        pass\n",
    "    else:\n",
    "        print('The input must be a number 1-5.')\n",
    "        print('')"
   ]
  },
  {
   "cell_type": "markdown",
   "metadata": {},
   "source": [
    "# [Find the Volume of Each Lake](https://techdevguide.withgoogle.com/paths/advanced/volume-of-water/#code-challenge)"
   ]
  },
  {
   "cell_type": "markdown",
   "metadata": {},
   "source": [
    "**The Challenge**\n",
    "\n",
    "Imagine an island that is in the shape of a bar graph. When it rains, certain areas of the island fill up with rainwater to form lakes. Any excess rainwater the island cannot hold in lakes will run off the island to the west or east and drain into the ocean.\n",
    "\n",
    "Given an array of positive integers representing 2-D bar heights, design an algorithm (or write a function) that can compute the total volume (capacity) of water that could be held in all lakes on such an island given an array of the heights of the bars. Assume an elevation map where the width of each bar is 1.\n",
    "\n",
    "Example: Given ``[1,3,2,4,1,3,1,4,5,2,2,1,4,2,2]``, return ``15`` (3 bodies of water with volumes of 1,7,7 yields total volume of 15)\n",
    "\n",
    "![title](https://techdevguide.withgoogle.com/static/images/resources/r-in-25-volume-of-water-1.jpg)\n",
    "\n",
    "**Learning objectives**\n",
    "\n",
    "This question offers practice with algorithms, data structures, Big-O, defining functions, generalization, efficiency, time and space complexity, and anticipating edge cases."
   ]
  },
  {
   "cell_type": "markdown",
   "metadata": {},
   "source": [
    "import numpy as np\n",
    "\n",
    "N = len()"
   ]
  }
 ],
 "metadata": {
  "kernelspec": {
   "display_name": "Python 3",
   "language": "python",
   "name": "python3"
  },
  "language_info": {
   "codemirror_mode": {
    "name": "ipython",
    "version": 3
   },
   "file_extension": ".py",
   "mimetype": "text/x-python",
   "name": "python",
   "nbconvert_exporter": "python",
   "pygments_lexer": "ipython3",
   "version": "3.7.3"
  }
 },
 "nbformat": 4,
 "nbformat_minor": 2
}
