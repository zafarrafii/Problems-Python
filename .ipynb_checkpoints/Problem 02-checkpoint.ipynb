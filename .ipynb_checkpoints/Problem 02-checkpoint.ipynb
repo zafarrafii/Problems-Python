{
 "cells": [
  {
   "cell_type": "markdown",
   "metadata": {},
   "source": [
    "# Simple interpreter that understands \"+\", \"-\", and \"\\*\" operations"
   ]
  },
  {
   "cell_type": "markdown",
   "metadata": {},
   "source": [
    "From [CodingBat](https://codingbat.com/prob/p234011)\n",
    "\n",
    "Write a simple interpreter which understands \"+\", \"-\", and \"\\*\" operations. Apply the operations in order using command/arg pairs starting with the initial value of 'value'. If you encounter an unknown command, return -1.\n",
    "\n",
    "- interpret(1, ['+'], [1]) → 2\n",
    "- interpret(4, ['-'], [2]) → 2\n",
    "- interpret(1, ['+', '\\*'], [1, 3]) → 6"
   ]
  },
  {
   "cell_type": "code",
   "execution_count": 1,
   "metadata": {},
   "outputs": [],
   "source": [
    "def interpret(value, commands, args):\n",
    "    \n",
    "    # Initial value\n",
    "    results = value\n",
    "    \n",
    "    # Number of arguments\n",
    "    N = len(args)\n",
    "    \n",
    "    # Loop over the arguments and add, subtract, or multiply depending on the command\n",
    "    for i in range(0, N):\n",
    "        if commands[i] == \"+\":\n",
    "            results = results + args[i]\n",
    "        elif commands[i] == \"-\":\n",
    "            results = results - args[i]\n",
    "        elif commands[i] == \"*\":\n",
    "            results = results * args[i]\n",
    "        else:\n",
    "            results = -1\n",
    "            break\n",
    "    \n",
    "    return results"
   ]
  },
  {
   "cell_type": "code",
   "execution_count": 2,
   "metadata": {},
   "outputs": [
    {
     "data": {
      "text/plain": [
       "2"
      ]
     },
     "execution_count": 2,
     "metadata": {},
     "output_type": "execute_result"
    }
   ],
   "source": [
    "interpret(1, ['+'], [1]) "
   ]
  },
  {
   "cell_type": "code",
   "execution_count": 3,
   "metadata": {},
   "outputs": [
    {
     "data": {
      "text/plain": [
       "2"
      ]
     },
     "execution_count": 3,
     "metadata": {},
     "output_type": "execute_result"
    }
   ],
   "source": [
    "interpret(4, ['-'], [2])"
   ]
  },
  {
   "cell_type": "code",
   "execution_count": 4,
   "metadata": {},
   "outputs": [
    {
     "data": {
      "text/plain": [
       "6"
      ]
     },
     "execution_count": 4,
     "metadata": {},
     "output_type": "execute_result"
    }
   ],
   "source": [
    "interpret(1, ['+', '*'], [1, 3])"
   ]
  }
 ],
 "metadata": {
  "kernelspec": {
   "display_name": "Python 3",
   "language": "python",
   "name": "python3"
  },
  "language_info": {
   "codemirror_mode": {
    "name": "ipython",
    "version": 3
   },
   "file_extension": ".py",
   "mimetype": "text/x-python",
   "name": "python",
   "nbconvert_exporter": "python",
   "pygments_lexer": "ipython3",
   "version": "3.7.3"
  }
 },
 "nbformat": 4,
 "nbformat_minor": 2
}
