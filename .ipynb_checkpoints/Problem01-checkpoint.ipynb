{
 "cells": [
  {
   "cell_type": "markdown",
   "metadata": {},
   "source": [
    "# Find longest word in dictionary that is a subsequence of a given string"
   ]
  },
  {
   "cell_type": "markdown",
   "metadata": {},
   "source": [
    "## Problem"
   ]
  },
  {
   "cell_type": "markdown",
   "metadata": {},
   "source": [
    "*From [Google](https://techdevguide.withgoogle.com/paths/foundational/find-longest-word-in-dictionary-that-subsequence-of-given-string/#code-challenge)*\n",
    "\n",
    "Given a string ``S`` and a set of words ``D``, find the longest word in ``D`` that is a subsequence of ``S``.\n",
    "\n",
    "Word ``W`` is a subsequence of ``S`` if some number of characters, possibly zero, can be deleted from ``S`` to form ``W``, without reordering the remaining characters.\n",
    "\n",
    "Note: ``D`` can appear in any format (list, hash table, prefix tree, etc.)\n",
    "\n",
    "For example, given the input of ``S = \"abppplee\"`` and ``D = {\"able\", \"ale\", \"apple\", \"bale\", \"kangaroo\"}`` the correct output would be ``\"apple\"``\n",
    "\n",
    "- The words \"able\" and \"ale\" are both subsequences of S, but they are shorter than \"apple\".\n",
    "- The word \"bale\" is not a subsequence of S because even though S has all the right letters, they are not in the right order.\n",
    "- The word \"kangaroo\" is the longest word in D, but it isn't a subsequence of S.\n",
    "\n",
    "**Learning objectives**\n",
    "\n",
    "This question gives you the chance to practice with algorithms and data structures. It’s also a good example of why careful analysis for Big-O performance is often worthwhile, as is careful exploration of common and worst-case input conditions."
   ]
  },
  {
   "cell_type": "markdown",
   "metadata": {},
   "source": [
    "## Solution"
   ]
  },
  {
   "cell_type": "code",
   "execution_count": 1,
   "metadata": {},
   "outputs": [],
   "source": [
    "import numpy as np\n",
    "\n",
    "def longest_subsequence(S, D):\n",
    "    \n",
    "    # Get the length of the string (number of characters)\n",
    "    Ls = len(S)\n",
    "    \n",
    "    # Get the number of words in the set\n",
    "    Nd = len(D)\n",
    "    \n",
    "    # Initialize an array with zeros for every word \n",
    "    A = np.zeros(Nd)\n",
    "    \n",
    "    # Loop over the words in the set\n",
    "    for i in range(0, Nd):\n",
    "        \n",
    "        # Get the current word and its length\n",
    "        W = D[i]\n",
    "        Lw = len(W)\n",
    "        \n",
    "        # Initialize a counter for the word\n",
    "        k = 0\n",
    "        \n",
    "        # Loop over the characters in the string\n",
    "        for j in range(0, Ls):\n",
    "            \n",
    "            # If the end of the word has not been reached\n",
    "            if k < Lw:\n",
    "            \n",
    "                # If the string and the word have the same character\n",
    "                if S[j] == W[k]:\n",
    "                    \n",
    "                    # Update the counter\n",
    "                    k = k+1\n",
    "            \n",
    "            # If the end of the word has been reached\n",
    "            else:\n",
    "                \n",
    "                # Break the loop\n",
    "                break\n",
    "        \n",
    "        # If the counter is equal to the length of the word\n",
    "        if k == Lw:\n",
    "            \n",
    "            # Update the array with the length of the word as it is a subsequence of the string\n",
    "            A[i] = Lw\n",
    "                \n",
    "    # Return the longest word which is a subsequence of the string\n",
    "    return D[np.argmax(A)]"
   ]
  },
  {
   "cell_type": "code",
   "execution_count": 2,
   "metadata": {},
   "outputs": [
    {
     "data": {
      "text/plain": [
       "'apple'"
      ]
     },
     "execution_count": 2,
     "metadata": {},
     "output_type": "execute_result"
    }
   ],
   "source": [
    "S = \"abppplee\"\n",
    "D = [\"able\", \"ale\", \"apple\", \"bale\", \"kangaroo\"]\n",
    "longest_subsequence(S,D)"
   ]
  },
  {
   "cell_type": "markdown",
   "metadata": {},
   "source": [
    "## Explanations"
   ]
  },
  {
   "cell_type": "markdown",
   "metadata": {},
   "source": [
    "The idea here is to loop over each word in the set, and for each word, loop over the characters in the string, and check if the current character in the string and the current character in the current word are matching. If so, we update a counter for the word and check the next character in the word until the end of the word or the end of the string has been reached; in the former case, we break the loop over the characters in the string.\n",
    "\n",
    "We then check if all the characters of the current word have been checked. If so, it means the whole word is present sequentially in the string and we update a zero array with the length of the word. We finally check from the array which is the longest word that actually appears as a subsequence of the string."
   ]
  }
 ],
 "metadata": {
  "kernelspec": {
   "display_name": "Python 3",
   "language": "python",
   "name": "python3"
  },
  "language_info": {
   "codemirror_mode": {
    "name": "ipython",
    "version": 3
   },
   "file_extension": ".py",
   "mimetype": "text/x-python",
   "name": "python",
   "nbconvert_exporter": "python",
   "pygments_lexer": "ipython3",
   "version": "3.7.3"
  }
 },
 "nbformat": 4,
 "nbformat_minor": 2
}
