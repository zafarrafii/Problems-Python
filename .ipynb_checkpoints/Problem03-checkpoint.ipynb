{
 "cells": [
  {
   "cell_type": "markdown",
   "metadata": {},
   "source": [
    "# Compression and decompression of a string"
   ]
  },
  {
   "cell_type": "markdown",
   "metadata": {},
   "source": [
    "## Problem"
   ]
  },
  {
   "cell_type": "markdown",
   "metadata": {},
   "source": [
    "*From [Google](https://techdevguide.withgoogle.com/paths/advanced/compress-decompression/#code-challenge)*\n",
    "\n",
    "In this exercise, you're going to decompress a compressed string.\n",
    "\n",
    "Your input is a compressed string of the format `number[string]` and the decompressed output form should be the `string` written `number` times. For example:\n",
    "\n",
    "The input\n",
    "\n",
    "`3[abc]4[ab]c`\n",
    "\n",
    "Would be output as\n",
    "\n",
    "`abcabcabcababababc`\n",
    "\n",
    "**Other rules**\n",
    "\n",
    "Number can have more than one digit. For example, `10[a]` is allowed, and just means `aaaaaaaaaa`\n",
    "\n",
    "One repetition can occur inside another. For example, `2[3[a]b]` decompresses into `aaabaaab`\n",
    "\n",
    "Characters allowed as input include digits, small English letters and brackets `[ ]`.\n",
    "\n",
    "Digits are only to represent amount of repetitions.\n",
    "\n",
    "Letters are just letters.\n",
    "\n",
    "Brackets are only part of syntax of writing repeated substring.\n",
    "\n",
    "Input is always valid, so no need to check its validity.\n",
    "\n",
    "**Learning objectives**\n",
    "\n",
    "This question gives you the chance to practice with strings, recursion, algorithm, compilers, automata, and loops. It’s also an opportunity to work on coding with better efficiency."
   ]
  },
  {
   "cell_type": "markdown",
   "metadata": {},
   "source": [
    "## Solution"
   ]
  },
  {
   "cell_type": "code",
   "execution_count": 1,
   "metadata": {},
   "outputs": [],
   "source": [
    "def decompress(input):\n",
    "    \n",
    "    # Number of characters in the input\n",
    "    length = len(input)\n",
    "    \n",
    "    # Initialized index\n",
    "    index = 0\n",
    "    \n",
    "    # Inner decompress function\n",
    "    def decompress1(input, index, length):\n",
    "        \n",
    "        # Initialize number\n",
    "        number = ''\n",
    "        \n",
    "        # Initialize output\n",
    "        output = ''\n",
    "        \n",
    "        # Loop over the characters of the input (with a while loop)\n",
    "        while index < length:\n",
    "            \n",
    "            # If the current character is a digit\n",
    "            if input[index].isdigit():\n",
    "                \n",
    "                # Update number\n",
    "                number = number + input[index]\n",
    "                \n",
    "                # Update index\n",
    "                index = index+1\n",
    "                \n",
    "            # If the current character is an open bracket\n",
    "            elif input[index] == '[':\n",
    "                \n",
    "                # Update index\n",
    "                index = index+1\n",
    "                \n",
    "                # Call the inner decompress function recursively on the input, \n",
    "                # and get the local output and the updated index\n",
    "                output1, index = decompress1(input, index, length)\n",
    "                \n",
    "                # Translate number from a string to an integer\n",
    "                number = int(number)\n",
    "                \n",
    "                # Repeat the local output number times and add it to the global output\n",
    "                output = output + number*output1\n",
    "                \n",
    "                # Re-initialize number\n",
    "                number = ''\n",
    "                \n",
    "            # If the current character is a letter\n",
    "            elif input[index].isalpha():\n",
    "                \n",
    "                # Update output\n",
    "                output = output + input[index]\n",
    "                \n",
    "                # Update index\n",
    "                index = index+1\n",
    "\n",
    "            # If the current character is a closed bracket\n",
    "            elif input[index] == ']':\n",
    "                \n",
    "                # Update index\n",
    "                index = index+1\n",
    "                \n",
    "                # Return output and index\n",
    "                return output, index\n",
    "                \n",
    "        return output, index\n",
    "        \n",
    "    # Call the inner decompress function\n",
    "    output, index = decompress1(input, index, length)\n",
    "    \n",
    "    # Return the final output\n",
    "    return output"
   ]
  },
  {
   "cell_type": "code",
   "execution_count": 2,
   "metadata": {},
   "outputs": [
    {
     "data": {
      "text/plain": [
       "'abcabcabcababababc'"
      ]
     },
     "execution_count": 2,
     "metadata": {},
     "output_type": "execute_result"
    }
   ],
   "source": [
    "decompress('3[abc]4[ab]c')"
   ]
  },
  {
   "cell_type": "code",
   "execution_count": 3,
   "metadata": {},
   "outputs": [
    {
     "data": {
      "text/plain": [
       "'aaaaaaaaaa'"
      ]
     },
     "execution_count": 3,
     "metadata": {},
     "output_type": "execute_result"
    }
   ],
   "source": [
    "decompress(\"10[a]\")"
   ]
  },
  {
   "cell_type": "code",
   "execution_count": 4,
   "metadata": {},
   "outputs": [
    {
     "data": {
      "text/plain": [
       "'aaabaaab'"
      ]
     },
     "execution_count": 4,
     "metadata": {},
     "output_type": "execute_result"
    }
   ],
   "source": [
    "decompress(\"2[3[a]b]\")"
   ]
  },
  {
   "cell_type": "markdown",
   "metadata": {},
   "source": [
    "## Explanations"
   ]
  },
  {
   "cell_type": "markdown",
   "metadata": {},
   "source": [
    "The idea here is to have a function which will call an inner function which will itself loop over the string to decompress it iteratively and recursively as it encounters the pattern *number[characters]*.\n",
    "\n",
    "The inner function will store digits when it sees any and will turn them into an actual number when it sees a open bracket, after calling itself recursively to decompress the inner string within the current brackets into a series a characters so that it can apply the number to those characters for further decompression. The inner function will also store characters when it sees any and will return the decompressed current string when it sees a closed bracket.\n",
    "\n",
    "The whole process will be iterated until the end of the input string has been reached. The main function will then return the final decompressed string."
   ]
  }
 ],
 "metadata": {
  "kernelspec": {
   "display_name": "Python 3",
   "language": "python",
   "name": "python3"
  },
  "language_info": {
   "codemirror_mode": {
    "name": "ipython",
    "version": 3
   },
   "file_extension": ".py",
   "mimetype": "text/x-python",
   "name": "python",
   "nbconvert_exporter": "python",
   "pygments_lexer": "ipython3",
   "version": "3.7.3"
  }
 },
 "nbformat": 4,
 "nbformat_minor": 2
}
