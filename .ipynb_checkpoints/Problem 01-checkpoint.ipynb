{
 "cells": [
  {
   "cell_type": "markdown",
   "metadata": {},
   "source": [
    "# Find longest word in dictionary that is a subsequence of a given string"
   ]
  },
  {
   "cell_type": "markdown",
   "metadata": {},
   "source": [
    "## Problem"
   ]
  },
  {
   "cell_type": "markdown",
   "metadata": {},
   "source": [
    "*From [Google](https://techdevguide.withgoogle.com/paths/foundational/find-longest-word-in-dictionary-that-subsequence-of-given-string/#code-challenge)*\n",
    "\n",
    "Given a string ``S`` and a set of words ``D``, find the longest word in ``D`` that is a subsequence of ``S``.\n",
    "\n",
    "Word ``W`` is a subsequence of ``S`` if some number of characters, possibly zero, can be deleted from ``S`` to form ``W``, without reordering the remaining characters.\n",
    "\n",
    "Note: ``D`` can appear in any format (list, hash table, prefix tree, etc.)\n",
    "\n",
    "For example, given the input of ``S = \"abppplee\"`` and ``D = {\"able\", \"ale\", \"apple\", \"bale\", \"kangaroo\"}`` the correct output would be ``\"apple\"``\n",
    "\n",
    "- The words \"able\" and \"ale\" are both subsequences of S, but they are shorter than \"apple\".\n",
    "- The word \"bale\" is not a subsequence of S because even though S has all the right letters, they are not in the right order.\n",
    "- The word \"kangaroo\" is the longest word in D, but it isn't a subsequence of S.\n",
    "\n",
    "**Learning objectives**\n",
    "\n",
    "This question gives you the chance to practice with algorithms and data structures. It’s also a good example of why careful analysis for Big-O performance is often worthwhile, as is careful exploration of common and worst-case input conditions."
   ]
  },
  {
   "cell_type": "markdown",
   "metadata": {},
   "source": [
    "## Solution"
   ]
  },
  {
   "cell_type": "code",
   "execution_count": 1,
   "metadata": {},
   "outputs": [],
   "source": [
    "import numpy as np\n",
    "\n",
    "def find_longest_subsequence(S, D):\n",
    "    \n",
    "    # Length of the string (number of characters)\n",
    "    LS = len(S)\n",
    "    \n",
    "    # Number of words in the word set\n",
    "    ND = len(D)\n",
    "    \n",
    "    # Initialize an array with zeros for every word \n",
    "    # to find the one which is the longest subsequence\n",
    "    A = np.zeros(ND)\n",
    "    \n",
    "    # Loop over the words\n",
    "    for i in range(0, ND):\n",
    "        \n",
    "        # Current word and its length\n",
    "        W = D[i]\n",
    "        LW = len(W)\n",
    "        \n",
    "        # Initialized index for the current word\n",
    "        k = 0\n",
    "        \n",
    "        # Loop over the characters of the string\n",
    "        for j in range(0, LS):\n",
    "            \n",
    "            # If the end of the word has not been reached yet\n",
    "            if k < LW:\n",
    "            \n",
    "                # If the string has the same character as the word\n",
    "                if S[j] == W[k]:\n",
    "                    \n",
    "                    # Update the length in the array for the current word\n",
    "                    A[i] = A[i]+1\n",
    "                    \n",
    "                    # Update the index for the word\n",
    "                    k = k+1\n",
    "            \n",
    "            # If the end of the word has been reached\n",
    "            else:\n",
    "                \n",
    "                # Break the loop\n",
    "                break\n",
    "        \n",
    "        # If the length in the array for the current word is shorter than the word\n",
    "        if A[i] < LW:\n",
    "            \n",
    "            # It is not a subsequence so make it zero\n",
    "            A[i] = 0\n",
    "                \n",
    "    # Return the longest word which is a subsequence of the string\n",
    "    return D[np.argmax(A)]"
   ]
  },
  {
   "cell_type": "code",
   "execution_count": 2,
   "metadata": {},
   "outputs": [
    {
     "data": {
      "text/plain": [
       "'apple'"
      ]
     },
     "execution_count": 2,
     "metadata": {},
     "output_type": "execute_result"
    }
   ],
   "source": [
    "S = \"abppplee\"\n",
    "D = [\"able\", \"ale\", \"apple\", \"bale\", \"kangaroo\"]\n",
    "find_longest_subsequence(S,D)"
   ]
  },
  {
   "cell_type": "markdown",
   "metadata": {},
   "source": [
    "## Explanation"
   ]
  },
  {
   "cell_type": "markdown",
   "metadata": {},
   "source": [
    "The idea here is to loop over each word in the set, and for each word, loop over the characters in the string, check if the current character in the string matches the current character in the current word - if so, count it - and then move forward in the word until the end of the string or the end of the word has been reached; in the latter case, we will then break the loop over the characters in the string. Once we have counted the number of characters in the string which appears in the words, we zero any number which is shorter than the length of the corresponding word as this means that the whole word does not appear in the string so it is therefore not a subsequence of the string. We finally return the word with the longest number of characters appearing in the string."
   ]
  }
 ],
 "metadata": {
  "kernelspec": {
   "display_name": "Python 3",
   "language": "python",
   "name": "python3"
  },
  "language_info": {
   "codemirror_mode": {
    "name": "ipython",
    "version": 3
   },
   "file_extension": ".py",
   "mimetype": "text/x-python",
   "name": "python",
   "nbconvert_exporter": "python",
   "pygments_lexer": "ipython3",
   "version": "3.7.3"
  }
 },
 "nbformat": 4,
 "nbformat_minor": 2
}
