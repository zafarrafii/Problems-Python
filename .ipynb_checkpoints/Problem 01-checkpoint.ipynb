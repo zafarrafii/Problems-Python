{
 "cells": [
  {
   "cell_type": "markdown",
   "metadata": {},
   "source": [
    "# Find longest word in dictionary that is a subsequence of a given string"
   ]
  },
  {
   "cell_type": "markdown",
   "metadata": {},
   "source": [
    "From [Google](https://techdevguide.withgoogle.com/paths/foundational/find-longest-word-in-dictionary-that-subsequence-of-given-string/#code-challenge)\n",
    "\n",
    "Given a string ``S`` and a set of words ``D``, find the longest word in ``D`` that is a subsequence of ``S``.\n",
    "\n",
    "Word ``W`` is a subsequence of ``S`` if some number of characters, possibly zero, can be deleted from ``S`` to form ``W``, without reordering the remaining characters.\n",
    "\n",
    "Note: ``D`` can appear in any format (list, hash table, prefix tree, etc.)\n",
    "\n",
    "For example, given the input of ``S = \"abppplee\"`` and ``D = {\"able\", \"ale\", \"apple\", \"bale\", \"kangaroo\"}`` the correct output would be ``\"apple\"``\n",
    "\n",
    "- The words \"able\" and \"ale\" are both subsequences of S, but they are shorter than \"apple\".\n",
    "- The word \"bale\" is not a subsequence of S because even though S has all the right letters, they are not in the right order.\n",
    "- The word \"kangaroo\" is the longest word in D, but it isn't a subsequence of S."
   ]
  },
  {
   "cell_type": "code",
   "execution_count": 4,
   "metadata": {},
   "outputs": [],
   "source": [
    "import numpy as np\n",
    "\n",
    "def find_longest_subsequence(S, D):\n",
    "    \n",
    "    # Length of the string\n",
    "    NS = len(S)\n",
    "    \n",
    "    # Number of words in the word set\n",
    "    ND = len(D)\n",
    "    \n",
    "    # Initialize an array to find the length of the longest subsequence for every word\n",
    "    A = np.zeros(ND)\n",
    "    \n",
    "    # Loop over the words in the word set\n",
    "    for i in range(0, ND):\n",
    "        \n",
    "        # Current word and its length\n",
    "        Di = D[i]\n",
    "        NDi = len(Di)\n",
    "        \n",
    "        # Initialize counters\n",
    "        k = 0\n",
    "        j = 0\n",
    "        \n",
    "        # Count the number of consecutive letters that the current word and the string have in common\n",
    "        while j < NDi and k < NS:\n",
    "            if Di[j] == S[k]:\n",
    "                A[i] = A[i]+1\n",
    "                j = j+1\n",
    "            k = k+1\n",
    "    \n",
    "    # Return the longest word which is a subsequence of the string\n",
    "    return D[np.argmax(A)]"
   ]
  },
  {
   "cell_type": "code",
   "execution_count": 5,
   "metadata": {},
   "outputs": [
    {
     "data": {
      "text/plain": [
       "'apple'"
      ]
     },
     "execution_count": 5,
     "metadata": {},
     "output_type": "execute_result"
    }
   ],
   "source": [
    "S = \"abppplee\"\n",
    "D = [\"able\", \"ale\", \"apple\", \"bale\", \"kangaroo\"]\n",
    "find_longest_subsequence(S,D)"
   ]
  },
  {
   "cell_type": "code",
   "execution_count": null,
   "metadata": {},
   "outputs": [],
   "source": []
  }
 ],
 "metadata": {
  "kernelspec": {
   "display_name": "Python 3",
   "language": "python",
   "name": "python3"
  },
  "language_info": {
   "codemirror_mode": {
    "name": "ipython",
    "version": 3
   },
   "file_extension": ".py",
   "mimetype": "text/x-python",
   "name": "python",
   "nbconvert_exporter": "python",
   "pygments_lexer": "ipython3",
   "version": "3.7.3"
  }
 },
 "nbformat": 4,
 "nbformat_minor": 2
}
