{
 "cells": [
  {
   "cell_type": "markdown",
   "metadata": {},
   "source": [
    "# [Find longest word in dictionary that is a subsequence of a given string](https://techdevguide.withgoogle.com/paths/foundational/find-longest-word-in-dictionary-that-subsequence-of-given-string/#code-challenge)"
   ]
  },
  {
   "cell_type": "markdown",
   "metadata": {},
   "source": [
    "**The Challenge**\n",
    "\n",
    "Given a string ``S`` and a set of words ``D``, find the longest word in ``D`` that is a subsequence of ``S``.\n",
    "\n",
    "Word ``W`` is a subsequence of ``S`` if some number of characters, possibly zero, can be deleted from ``S`` to form ``W``, without reordering the remaining characters.\n",
    "\n",
    "Note: ``D`` can appear in any format (list, hash table, prefix tree, etc.\n",
    "\n",
    "For example, given the input of ``S = \"abppplee\"`` and ``D = {\"able\", \"ale\", \"apple\", \"bale\", \"kangaroo\"}`` the correct output would be ``\"apple\"``\n",
    "\n",
    "- The words \"able\" and \"ale\" are both subsequences of S, but they are shorter than \"apple\".\n",
    "- The word \"bale\" is not a subsequence of S because even though S has all the right letters, they are not in the right order.\n",
    "- The word \"kangaroo\" is the longest word in D, but it isn't a subsequence of S.\n",
    "\n",
    "**Learning objectives**\n",
    "\n",
    "This question gives you the chance to practice with algorithms and data structures. It’s also a good example of why careful analysis for Big-O performance is often worthwhile, as is careful exploration of common and worst-case input conditions."
   ]
  },
  {
   "cell_type": "code",
   "execution_count": 1,
   "metadata": {},
   "outputs": [],
   "source": [
    "def find_longest_subsequence(S,D):\n",
    "\n",
    "    import numpy as np\n",
    "\n",
    "    N = len(D)\n",
    "    Ns = len(S)\n",
    "    A = np.zeros(N)\n",
    "    for i in range(0,N):\n",
    "        Di = D[i]\n",
    "        Ni = len(Di)\n",
    "        k = 0\n",
    "        j = 0\n",
    "        while j < Ni and k < Ns:\n",
    "            if Di[j]==S[k]:\n",
    "                A[i] = A[i]+1\n",
    "                j = j+1\n",
    "            k = k+1\n",
    "    return D[np.argmax(A)]"
   ]
  },
  {
   "cell_type": "code",
   "execution_count": 2,
   "metadata": {},
   "outputs": [
    {
     "data": {
      "text/plain": [
       "'apple'"
      ]
     },
     "execution_count": 2,
     "metadata": {},
     "output_type": "execute_result"
    }
   ],
   "source": [
    "S = \"abppplee\"\n",
    "D = [\"able\", \"ale\", \"apple\", \"bale\", \"kangaroo\"]\n",
    "find_longest_subsequence(S,D)"
   ]
  }
 ],
 "metadata": {
  "kernelspec": {
   "display_name": "Python 3",
   "language": "python",
   "name": "python3"
  },
  "language_info": {
   "codemirror_mode": {
    "name": "ipython",
    "version": 3
   },
   "file_extension": ".py",
   "mimetype": "text/x-python",
   "name": "python",
   "nbconvert_exporter": "python",
   "pygments_lexer": "ipython3",
   "version": "3.7.3"
  }
 },
 "nbformat": 4,
 "nbformat_minor": 2
}
