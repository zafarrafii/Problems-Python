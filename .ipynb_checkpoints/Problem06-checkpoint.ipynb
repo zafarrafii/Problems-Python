{
 "cells": [
  {
   "cell_type": "markdown",
   "metadata": {},
   "source": [
    "# Find the volume of each lake created by rainwater"
   ]
  },
  {
   "cell_type": "markdown",
   "metadata": {},
   "source": [
    "*From [Google](https://techdevguide.withgoogle.com/paths/advanced/volume-of-water/#code-challenge)*\n",
    "\n",
    "Imagine an island that is in the shape of a bar graph. When it rains, certain areas of the island fill up with rainwater to form lakes. Any excess rainwater the island cannot hold in lakes will run off the island to the west or east and drain into the ocean.\n",
    "\n",
    "Given an array of positive integers representing 2-D bar heights, design an algorithm (or write a function) that can compute the total volume (capacity) of water that could be held in all lakes on such an island given an array of the heights of the bars. Assume an elevation map where the width of each bar is 1.\n",
    "\n",
    "Example: Given ``[1,3,2,4,1,3,1,4,5,2,2,1,4,2,2]``, return ``15`` (3 bodies of water with volumes of 1,7,7 yields total volume of 15)\n",
    "\n",
    "![title](https://techdevguide.withgoogle.com/static/images/resources/r-in-25-volume-of-water-1.jpg)\n",
    "\n",
    "**Learning objectives**\n",
    "\n",
    "This question offers practice with algorithms, data structures, Big-O, defining functions, generalization, efficiency, time and space complexity, and anticipating edge cases."
   ]
  },
  {
   "cell_type": "code",
   "execution_count": 1,
   "metadata": {},
   "outputs": [],
   "source": [
    "def volume(input_array):\n",
    "    \n",
    "    # Get the number of elements in the array\n",
    "    array_length = len(input_array)\n",
    "    \n",
    "    # Get the unique values in the array\n",
    "    unique_values = list(set(input_array))\n",
    "    \n",
    "    # Initialize the total volume\n",
    "    total_volume = 0\n",
    "    \n",
    "    # Loop over the unique values\n",
    "    for i in unique_values:\n",
    "        \n",
    "        # Find the first and last indices for the current unique value in the array\n",
    "        first_index = input_array.index(i)\n",
    "        last_index = array_length-input_array[::-1].index(i)-1\n",
    "        \n",
    "        # If there are at least two different unique value\n",
    "        if first_index != last_index:\n",
    "            \n",
    "            # Loop over the interval formed by the two indices\n",
    "            for j in range(first_index+1, last_index):\n",
    "                \n",
    "                # If the interval value is less than the unique value\n",
    "                if input_array[j] < i:\n",
    "                    \n",
    "                    # Update the total volume by adding the difference of the values\n",
    "                    total_volume = total_volume + (i-input_array[j])\n",
    "                    \n",
    "                    # Update the interval value to the unique value\n",
    "                    input_array[j] =  i\n",
    "            \n",
    "    # Return the results\n",
    "    return total_volume"
   ]
  },
  {
   "cell_type": "code",
   "execution_count": 2,
   "metadata": {},
   "outputs": [
    {
     "data": {
      "text/plain": [
       "15"
      ]
     },
     "execution_count": 2,
     "metadata": {},
     "output_type": "execute_result"
    }
   ],
   "source": [
    "volume([1,3,2,4,1,3,1,4,5,2,2,1,4,2,2])"
   ]
  },
  {
   "cell_type": "markdown",
   "metadata": {},
   "source": [
    "## Explanations"
   ]
  },
  {
   "cell_type": "markdown",
   "metadata": {},
   "source": [
    "The idea here is to loop over the unique values in the array (in ascending order), find the first and last indices in the array corresponding to each unique value, and update the array by replacing the values in the interval spanned by these indices by the unique value if the values are smaller. Each time, you will also update an initialized total volume by adding to it the corresponding difference of values.\n",
    "\n",
    "For example, for ``[1,3,2,4,1,3,1,4,5,2,2,1,4,2,2]``, the first unique value is ``1``. The first and last indices corresponding to ``1`` in the array are ``0`` and ``11``, respectively. You loop over the array between these indices and check where the values in that interval are less than ``1``. In this case, no value is less than ``1`` in that interval.\n",
    "\n",
    "The next unique value is ``2``. The first and last indices corresponding to ``2`` in the array are ``2`` and ``14``, respectively. You loop over the array between these indices and check where the values in that interval are less than ``2``. In this case, the values at indices ``4``, ``6``, and ``11`` are ``1`` which is less than ``2``. You then update the total volume from ``0`` to ``3`` (plus 3 times 1 unit). You also update the array by changing the values at these indices to ``2``.\n",
    "\n",
    "The next unique value is ``3``. The first and last indices corresponding to ``3`` in the array are ``1`` and ``5``, respectively. You loop over the updated array between these indices and check where the values in that interval are less than ``3``. In this case, the values at indices ``2`` and ``4`` are ``2`` which is less than ``3``. You then update the initialized total volume from ``3`` to ``5`` (plus 2 times 1 unit). You also update the array by changing the values at these indices to ``3``.\n",
    "\n",
    "You repeat this process for the rest of the unique values."
   ]
  }
 ],
 "metadata": {
  "kernelspec": {
   "display_name": "Python 3",
   "language": "python",
   "name": "python3"
  },
  "language_info": {
   "codemirror_mode": {
    "name": "ipython",
    "version": 3
   },
   "file_extension": ".py",
   "mimetype": "text/x-python",
   "name": "python",
   "nbconvert_exporter": "python",
   "pygments_lexer": "ipython3",
   "version": "3.7.3"
  }
 },
 "nbformat": 4,
 "nbformat_minor": 2
}
